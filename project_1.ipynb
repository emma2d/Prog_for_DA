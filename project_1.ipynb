{
 "cells": [
  {
   "cell_type": "markdown",
   "metadata": {},
   "source": [
    "## Project 1 - Simulated Data Set Analysis \n",
    "\n",
    "***\n",
    "\n",
    "Author: Emma Dunleavy \n",
    "\n",
    "Student Number: g00425660\n",
    "\n",
    "Module: Programming for Data Analysis Winter 2023/24  \n",
    "\n",
    "Lecturer: Brian McGinley\n",
    "***"
   ]
  },
  {
   "cell_type": "markdown",
   "metadata": {},
   "source": [
    "### Required Libraries\n",
    "***"
   ]
  },
  {
   "cell_type": "code",
   "execution_count": 1,
   "metadata": {},
   "outputs": [],
   "source": [
    "import pandas as pd # Data frames\n",
    "import numpy as np # Numerical arrays\n",
    "import seaborn as sns # Data visualization\n",
    "import matplotlib.pyplot as plt # Data visualization\n",
    "import scipy.stats as ss # Probabilistic distributions and statistical operations\n",
    "from scipy.stats import f_oneway # One-way ANOVA\n",
    "import statistics as s # for alternative method for generating data"
   ]
  },
  {
   "cell_type": "markdown",
   "metadata": {},
   "source": [
    "<span style='color:orange'> Question Part 1 - Choose a real-world phenomenon that can be measured and for which you could collect at least one-hundred data points across at least four different variables. </span>\n",
    "\n",
    "Using the results derived from the Mashad stroke and heart atherosclerotic disorders (MASHAD) study (2010-2020) [1], I have selected variables as per tables 1 below for analysis, with a focus on systolic blood pressure, for people categorised as \"Normal weight\", \"Underweight\" and \"Obese\". For the discussion in this report the \"Normal Weight\" variable will be reported as \"Healthy weight\".  The other contributing measured variables are \"Age\", \"Weight\", \"Height\" and \"Total energy expenditure\". Table 1 provides a summary of the study's statistical findings, which is a sample of the overall results, follow the link below for a comprehensive listing of the study findings.\n",
    "\n",
    "[Dietary Intake and Its Relationship to Different Body Mass Index Categories: A Population-Based Study ](https://www.ncbi.nlm.nih.gov/pmc/articles/PMC6941633/)"
   ]
  },
  {
   "cell_type": "markdown",
   "metadata": {},
   "source": [
    "|Variable| \tHealthy weight| \tUnderweight |\t Obese|\n",
    "|:-----|-----|:-----:|-----:|\n",
    "||**Mean / \tSD**| **Mean \t/ SD** |**Mean\t/  SD**|\t\n",
    "|<span style='color:grey'>**Age (yr)**</span> |\t47.9 / 8.5|\t47.6\t/ 8.1|\t\t48.4\t/ 7.9\t|\n",
    "|<span style='color:grey'>**Weight(kg)**</span> |\t47.9 /\t6.5|\t48.2 /\t8.6|\t\t81.6 /\t14.8|\n",
    "|<span style='color: grey'>**Height (meter)**</span> |\t1.6\t/0.1\t|1.6\t/0.1\t\t|1.5 /0.1\t|\n",
    "|<span style='color:grey'>**Total energy expenditure**</span> |\t2362.0\t/ 341.2\t|2380.6\t / 384.6\t|  2344.0 /\t269.9|\n",
    "|<span style='color:grey'>**Systolic blood pressure (mmHg)**</span> | \t116.3 /\t19.1 |\t111.3\t/ 20.0\t| \t122.6\t/ 26.2 |\n",
    "\n",
    "**<i>Table 1 - Statistical findings of continuous data<i>**"
   ]
  },
  {
   "cell_type": "markdown",
   "metadata": {},
   "source": [
    "<span style='color:orange'>Part 2: Investigate the types of variables involved, their likely distributions, and their\n",
    "relationships with each other.</span>"
   ]
  },
  {
   "cell_type": "markdown",
   "metadata": {},
   "source": [
    " |Variable|Age (yr) |Weight(kg) | Total energy expenditure   |Systolic blood pressure (mmHg) |Weight Category|\n",
    " |---|:---|---|---|---|---|\n",
    " |<span style='color:grey'>**Variable type level 1**</span>|numerical|numerical|numerical|numerical|categorical|\n",
    " |<span style='color:grey'>**Variable type level 2**</span>|continuous - ratio|continuous - ratio|continuous - ratio|continuous - ratio|nominal|\n",
    "\n",
    " **<i>Table 2 - Variable Types<i>**"
   ]
  },
  {
   "cell_type": "markdown",
   "metadata": {},
   "source": [
    "The study stated *\"Descriptive statistics including <kbd>mean ± standard deviation (SD)</kbd> &nbsp; were determined for variables with normal distribution\"*, which is the case for the variables per table 1 so it can therefore be stated all variables for discussion in this report are normally distributed. \n"
   ]
  },
  {
   "cell_type": "markdown",
   "metadata": {},
   "source": [
    "<span style='color:orange'>Part 3: Synthesise/simulate a data set as closely matching their properties as possible.</span>"
   ]
  },
  {
   "cell_type": "markdown",
   "metadata": {},
   "source": [
    "## Healthy Weight Data Generation\n",
    "***"
   ]
  },
  {
   "cell_type": "code",
   "execution_count": 2,
   "metadata": {},
   "outputs": [],
   "source": [
    "# Define the means and standard deviations for the \"healthy weight\" variables\n",
    "hw_age_mean = 47.9\n",
    "hw_age_sd = 8.5\n",
    "  \n",
    "hw_weight_mean = 47.9\n",
    "hw_weight_sd = 6.5\n",
    "\n",
    "hw_height_mean = 1.6\n",
    "hw_height_sd = 0.1\n",
    "\n",
    "hw_tee_mean = 2362.0\n",
    "hw_tee_sd = 341.2\n",
    "\n",
    "hw_bp_mean = 116.3\n",
    "hw_bp_sd = 19.1"
   ]
  },
  {
   "cell_type": "code",
   "execution_count": 3,
   "metadata": {},
   "outputs": [],
   "source": [
    "# Generate random data for each variable with the specified standard deviations\n",
    "hw_age = np.random.normal(hw_age_mean, hw_age_sd, 1000)\n",
    "hw_weight = np.random.normal(hw_weight_mean, hw_weight_sd, 1000)\n",
    "hw_height = np.random.normal(hw_height_mean, hw_height_sd, 1000)\n",
    "hw_tee = np.random.normal(hw_tee_mean, hw_tee_sd, 1000)\n",
    "hw_bp = np.random.normal(hw_bp_mean, hw_bp_sd, 1000)"
   ]
  },
  {
   "cell_type": "code",
   "execution_count": 4,
   "metadata": {},
   "outputs": [
    {
     "name": "stdout",
     "output_type": "stream",
     "text": [
      "47.89518723659546\n",
      "8.767928094537897\n",
      "47.57744988762421\n",
      "6.5878037313254785\n",
      "1.5998206952145102\n",
      "0.09786040696820468\n",
      "2366.6668462667103\n",
      "336.0559996806164\n",
      "116.78096590583527\n",
      "19.17436193948595\n"
     ]
    }
   ],
   "source": [
    "print(hw_age.mean())\n",
    "print(hw_age.std())\n",
    "print(hw_weight.mean())\n",
    "print(hw_weight.std())\n",
    "print(hw_height.mean())\n",
    "print(hw_height.std())\n",
    "print(hw_tee.mean())\n",
    "print(hw_tee.std())\n",
    "print(hw_bp.mean())\n",
    "print(hw_bp.std())"
   ]
  },
  {
   "cell_type": "markdown",
   "metadata": {},
   "source": [
    "|Supplied Mean and Sigma|Output from 1,000 samples  Dif|Output from 10,000 samples|Output from 100,000 samples|\n",
    "|-----|-----|-----|-----|\n",
    "|hw_age_mean = 47.9|47.81299247251516|47.96596301558934|47.86359295967902|\n",
    "|hw_age_sd = 8.5|8.600455933348217|8.48339578136973|8.499437770973914|\n",
    "|hw_weight_mean = 47.9|47.724202758509485|48.016540015644225|47.91576967623339|\n",
    "|hw_weight_sd = 6.5|6.476830442812602|6.533759642617733|6.492628439093849|\n",
    "|hw_height_mean = 1.6|1.59992325926602|1.600029710705768|1.6005796952056446|\n",
    "|hw_height_sd = 0.1|0.09742172592076556|0.10008765585016649|0.09949277850531468|\n",
    "|hw_tee_mean = 2362.0|2350.9717066226685|2366.4390138020744|2362.369793639186|\n",
    "|hw_tee_sd = 341.2|340.4809631864144|336.8788866518161|340.5291459830427|\n",
    "|hw_bp_mean = 116.3|116.39811688031763|116.12013277464749|116.26332160499516|\n",
    "|hw_bp_sd = 19.1|19.658444735911882|19.055677026091875|19.115876399830324|\n"
   ]
  },
  {
   "attachments": {
    "image-2.png": {
     "image/png": "[encoded data removed]"
    }
   },
   "cell_type": "markdown",
   "metadata": {},
   "source": [
    "![image-2.png](attachment:image-2.png)"
   ]
  },
  {
   "cell_type": "code",
   "execution_count": 5,
   "metadata": {},
   "outputs": [
    {
     "data": {
      "text/plain": [
       "8.767928094537897"
      ]
     },
     "execution_count": 5,
     "metadata": {},
     "output_type": "execute_result"
    }
   ],
   "source": [
    "# Test healthy weight standard deviation for randomly generated sample compared to provided standard deviation\n",
    "hw_age.std()"
   ]
  },
  {
   "cell_type": "code",
   "execution_count": 6,
   "metadata": {},
   "outputs": [],
   "source": [
    "# Create a dataset by combining the variables\n",
    "hw_dataset = np.column_stack((hw_age, hw_height, hw_weight, hw_tee, hw_bp))"
   ]
  },
  {
   "cell_type": "code",
   "execution_count": 7,
   "metadata": {},
   "outputs": [
    {
     "data": {
      "text/plain": [
       "8.767928094537897"
      ]
     },
     "execution_count": 7,
     "metadata": {},
     "output_type": "execute_result"
    }
   ],
   "source": [
    "# Confirmatory calculation. Show the healthy weight age std dev.\n",
    "hw_age.std()"
   ]
  },
  {
   "cell_type": "markdown",
   "metadata": {},
   "source": [
    "The smaller the sample size the further the outputted mean and standard deviation, using the random generator, is from the originally provided values. \n",
    "\n",
    "For eaxmple for the age variable \n",
    "a sample size of 100 provided and mean of 48.408 (0.5 away) and a standard deviation of 8.566 \n",
    "a sample size of 1000 provided and mean of 47.515 (0.4 away) and a standard deviation of 8.389\n",
    "a sample size of 10000 provided and mean of 47.743 (0.2 away) and a standard deviation of 8.394\n",
    "a sample size of 100000 provided and mean of 47.913 (on target) and a standard deviation of 8.477\n",
    "\n",
    "hw_age_mean = 47.9\n",
    "hw_age_sd = 8.5\n",
    "\n",
    "Increasing the sample size to 100,000  result is not an exact match as the numbers are randomly generated using the provided mean and the standard deviation as parmeters to generate the dataset. By testing sample size numbers I found by increasing the sample I got closer to the true number. Increasing the sample size to 100,000 provided a result of closest to the provided number."
   ]
  },
  {
   "cell_type": "markdown",
   "metadata": {},
   "source": [
    "### Convert Healthy Weight data to a DataFrame"
   ]
  },
  {
   "cell_type": "code",
   "execution_count": 8,
   "metadata": {},
   "outputs": [
    {
     "data": {
      "text/html": [
       "<div>\n",
       "<style scoped>\n",
       "    .dataframe tbody tr th:only-of-type {\n",
       "        vertical-align: middle;\n",
       "    }\n",
       "\n",
       "    .dataframe tbody tr th {\n",
       "        vertical-align: top;\n",
       "    }\n",
       "\n",
       "    .dataframe thead th {\n",
       "        text-align: right;\n",
       "    }\n",
       "</style>\n",
       "<table border=\"1\" class=\"dataframe\">\n",
       "  <thead>\n",
       "    <tr style=\"text-align: right;\">\n",
       "      <th></th>\n",
       "      <th>hw_age</th>\n",
       "      <th>hw_height</th>\n",
       "      <th>hw_weight</th>\n",
       "      <th>hw_tee</th>\n",
       "      <th>hw_bp</th>\n",
       "    </tr>\n",
       "  </thead>\n",
       "  <tbody>\n",
       "    <tr>\n",
       "      <th>0</th>\n",
       "      <td>55.507218</td>\n",
       "      <td>1.558117</td>\n",
       "      <td>59.631831</td>\n",
       "      <td>2152.878630</td>\n",
       "      <td>107.431542</td>\n",
       "    </tr>\n",
       "    <tr>\n",
       "      <th>1</th>\n",
       "      <td>54.439967</td>\n",
       "      <td>1.682875</td>\n",
       "      <td>40.095944</td>\n",
       "      <td>2534.513766</td>\n",
       "      <td>124.247989</td>\n",
       "    </tr>\n",
       "    <tr>\n",
       "      <th>2</th>\n",
       "      <td>42.326951</td>\n",
       "      <td>1.571694</td>\n",
       "      <td>62.062871</td>\n",
       "      <td>2204.233616</td>\n",
       "      <td>86.221905</td>\n",
       "    </tr>\n",
       "    <tr>\n",
       "      <th>3</th>\n",
       "      <td>68.173877</td>\n",
       "      <td>1.616693</td>\n",
       "      <td>57.312303</td>\n",
       "      <td>2360.353194</td>\n",
       "      <td>116.942958</td>\n",
       "    </tr>\n",
       "    <tr>\n",
       "      <th>4</th>\n",
       "      <td>68.456679</td>\n",
       "      <td>1.741797</td>\n",
       "      <td>37.726058</td>\n",
       "      <td>2516.122577</td>\n",
       "      <td>167.757269</td>\n",
       "    </tr>\n",
       "    <tr>\n",
       "      <th>...</th>\n",
       "      <td>...</td>\n",
       "      <td>...</td>\n",
       "      <td>...</td>\n",
       "      <td>...</td>\n",
       "      <td>...</td>\n",
       "    </tr>\n",
       "    <tr>\n",
       "      <th>995</th>\n",
       "      <td>49.074771</td>\n",
       "      <td>1.635220</td>\n",
       "      <td>38.590092</td>\n",
       "      <td>2967.346850</td>\n",
       "      <td>115.520704</td>\n",
       "    </tr>\n",
       "    <tr>\n",
       "      <th>996</th>\n",
       "      <td>45.429705</td>\n",
       "      <td>1.536528</td>\n",
       "      <td>42.738572</td>\n",
       "      <td>2085.039147</td>\n",
       "      <td>136.278952</td>\n",
       "    </tr>\n",
       "    <tr>\n",
       "      <th>997</th>\n",
       "      <td>35.330695</td>\n",
       "      <td>1.615715</td>\n",
       "      <td>39.745991</td>\n",
       "      <td>1880.953789</td>\n",
       "      <td>93.400637</td>\n",
       "    </tr>\n",
       "    <tr>\n",
       "      <th>998</th>\n",
       "      <td>43.763956</td>\n",
       "      <td>1.593803</td>\n",
       "      <td>37.344637</td>\n",
       "      <td>2611.318137</td>\n",
       "      <td>78.247543</td>\n",
       "    </tr>\n",
       "    <tr>\n",
       "      <th>999</th>\n",
       "      <td>48.624525</td>\n",
       "      <td>1.546582</td>\n",
       "      <td>48.835359</td>\n",
       "      <td>2147.326856</td>\n",
       "      <td>109.486930</td>\n",
       "    </tr>\n",
       "  </tbody>\n",
       "</table>\n",
       "<p>1000 rows × 5 columns</p>\n",
       "</div>"
      ],
      "text/plain": [
       "        hw_age  hw_height  hw_weight       hw_tee       hw_bp\n",
       "0    55.507218   1.558117  59.631831  2152.878630  107.431542\n",
       "1    54.439967   1.682875  40.095944  2534.513766  124.247989\n",
       "2    42.326951   1.571694  62.062871  2204.233616   86.221905\n",
       "3    68.173877   1.616693  57.312303  2360.353194  116.942958\n",
       "4    68.456679   1.741797  37.726058  2516.122577  167.757269\n",
       "..         ...        ...        ...          ...         ...\n",
       "995  49.074771   1.635220  38.590092  2967.346850  115.520704\n",
       "996  45.429705   1.536528  42.738572  2085.039147  136.278952\n",
       "997  35.330695   1.615715  39.745991  1880.953789   93.400637\n",
       "998  43.763956   1.593803  37.344637  2611.318137   78.247543\n",
       "999  48.624525   1.546582  48.835359  2147.326856  109.486930\n",
       "\n",
       "[1000 rows x 5 columns]"
      ]
     },
     "execution_count": 8,
     "metadata": {},
     "output_type": "execute_result"
    }
   ],
   "source": [
    "hw_dataframe = pd.DataFrame(hw_dataset, columns = ['hw_age', 'hw_height', 'hw_weight', 'hw_tee', 'hw_bp'])\n",
    "hw_dataframe"
   ]
  },
  {
   "cell_type": "code",
   "execution_count": 9,
   "metadata": {},
   "outputs": [],
   "source": [
    "# Generate the Healthy Weight categorical DataFrame.\n",
    "hw_cat_df = pd.DataFrame (['healty weight'] * 1000,  columns=['Weight Category'])\n",
    "hw_dataframe1 = pd.concat([hw_dataframe, hw_cat_df], axis = 1)\n"
   ]
  },
  {
   "cell_type": "code",
   "execution_count": 10,
   "metadata": {},
   "outputs": [
    {
     "data": {
      "text/html": [
       "<div>\n",
       "<style scoped>\n",
       "    .dataframe tbody tr th:only-of-type {\n",
       "        vertical-align: middle;\n",
       "    }\n",
       "\n",
       "    .dataframe tbody tr th {\n",
       "        vertical-align: top;\n",
       "    }\n",
       "\n",
       "    .dataframe thead th {\n",
       "        text-align: right;\n",
       "    }\n",
       "</style>\n",
       "<table border=\"1\" class=\"dataframe\">\n",
       "  <thead>\n",
       "    <tr style=\"text-align: right;\">\n",
       "      <th></th>\n",
       "      <th>hw_age</th>\n",
       "      <th>hw_height</th>\n",
       "      <th>hw_weight</th>\n",
       "      <th>hw_tee</th>\n",
       "      <th>hw_bp</th>\n",
       "      <th>Weight Category</th>\n",
       "    </tr>\n",
       "  </thead>\n",
       "  <tbody>\n",
       "    <tr>\n",
       "      <th>0</th>\n",
       "      <td>55.507218</td>\n",
       "      <td>1.558117</td>\n",
       "      <td>59.631831</td>\n",
       "      <td>2152.878630</td>\n",
       "      <td>107.431542</td>\n",
       "      <td>healty weight</td>\n",
       "    </tr>\n",
       "    <tr>\n",
       "      <th>1</th>\n",
       "      <td>54.439967</td>\n",
       "      <td>1.682875</td>\n",
       "      <td>40.095944</td>\n",
       "      <td>2534.513766</td>\n",
       "      <td>124.247989</td>\n",
       "      <td>healty weight</td>\n",
       "    </tr>\n",
       "    <tr>\n",
       "      <th>2</th>\n",
       "      <td>42.326951</td>\n",
       "      <td>1.571694</td>\n",
       "      <td>62.062871</td>\n",
       "      <td>2204.233616</td>\n",
       "      <td>86.221905</td>\n",
       "      <td>healty weight</td>\n",
       "    </tr>\n",
       "    <tr>\n",
       "      <th>3</th>\n",
       "      <td>68.173877</td>\n",
       "      <td>1.616693</td>\n",
       "      <td>57.312303</td>\n",
       "      <td>2360.353194</td>\n",
       "      <td>116.942958</td>\n",
       "      <td>healty weight</td>\n",
       "    </tr>\n",
       "    <tr>\n",
       "      <th>4</th>\n",
       "      <td>68.456679</td>\n",
       "      <td>1.741797</td>\n",
       "      <td>37.726058</td>\n",
       "      <td>2516.122577</td>\n",
       "      <td>167.757269</td>\n",
       "      <td>healty weight</td>\n",
       "    </tr>\n",
       "    <tr>\n",
       "      <th>...</th>\n",
       "      <td>...</td>\n",
       "      <td>...</td>\n",
       "      <td>...</td>\n",
       "      <td>...</td>\n",
       "      <td>...</td>\n",
       "      <td>...</td>\n",
       "    </tr>\n",
       "    <tr>\n",
       "      <th>995</th>\n",
       "      <td>49.074771</td>\n",
       "      <td>1.635220</td>\n",
       "      <td>38.590092</td>\n",
       "      <td>2967.346850</td>\n",
       "      <td>115.520704</td>\n",
       "      <td>healty weight</td>\n",
       "    </tr>\n",
       "    <tr>\n",
       "      <th>996</th>\n",
       "      <td>45.429705</td>\n",
       "      <td>1.536528</td>\n",
       "      <td>42.738572</td>\n",
       "      <td>2085.039147</td>\n",
       "      <td>136.278952</td>\n",
       "      <td>healty weight</td>\n",
       "    </tr>\n",
       "    <tr>\n",
       "      <th>997</th>\n",
       "      <td>35.330695</td>\n",
       "      <td>1.615715</td>\n",
       "      <td>39.745991</td>\n",
       "      <td>1880.953789</td>\n",
       "      <td>93.400637</td>\n",
       "      <td>healty weight</td>\n",
       "    </tr>\n",
       "    <tr>\n",
       "      <th>998</th>\n",
       "      <td>43.763956</td>\n",
       "      <td>1.593803</td>\n",
       "      <td>37.344637</td>\n",
       "      <td>2611.318137</td>\n",
       "      <td>78.247543</td>\n",
       "      <td>healty weight</td>\n",
       "    </tr>\n",
       "    <tr>\n",
       "      <th>999</th>\n",
       "      <td>48.624525</td>\n",
       "      <td>1.546582</td>\n",
       "      <td>48.835359</td>\n",
       "      <td>2147.326856</td>\n",
       "      <td>109.486930</td>\n",
       "      <td>healty weight</td>\n",
       "    </tr>\n",
       "  </tbody>\n",
       "</table>\n",
       "<p>1000 rows × 6 columns</p>\n",
       "</div>"
      ],
      "text/plain": [
       "        hw_age  hw_height  hw_weight       hw_tee       hw_bp Weight Category\n",
       "0    55.507218   1.558117  59.631831  2152.878630  107.431542   healty weight\n",
       "1    54.439967   1.682875  40.095944  2534.513766  124.247989   healty weight\n",
       "2    42.326951   1.571694  62.062871  2204.233616   86.221905   healty weight\n",
       "3    68.173877   1.616693  57.312303  2360.353194  116.942958   healty weight\n",
       "4    68.456679   1.741797  37.726058  2516.122577  167.757269   healty weight\n",
       "..         ...        ...        ...          ...         ...             ...\n",
       "995  49.074771   1.635220  38.590092  2967.346850  115.520704   healty weight\n",
       "996  45.429705   1.536528  42.738572  2085.039147  136.278952   healty weight\n",
       "997  35.330695   1.615715  39.745991  1880.953789   93.400637   healty weight\n",
       "998  43.763956   1.593803  37.344637  2611.318137   78.247543   healty weight\n",
       "999  48.624525   1.546582  48.835359  2147.326856  109.486930   healty weight\n",
       "\n",
       "[1000 rows x 6 columns]"
      ]
     },
     "execution_count": 10,
     "metadata": {},
     "output_type": "execute_result"
    }
   ],
   "source": [
    "# Show the healthy weight dataframe with the categorical column added. \n",
    "hw_dataframe1"
   ]
  },
  {
   "cell_type": "markdown",
   "metadata": {},
   "source": [
    "## Under Weight Data Generation\n",
    "***"
   ]
  },
  {
   "cell_type": "code",
   "execution_count": 11,
   "metadata": {},
   "outputs": [],
   "source": [
    "# Define the means and standard deviations for the \"healthy weight\" variables\n",
    "uw_age_mean = 47.6\n",
    "uw_age_sd = 8.1\n",
    "  \n",
    "uw_weight_mean = 48.2\n",
    "uw_weight_sd = 8.6\n",
    "\n",
    "uw_height_mean = 1.6\n",
    "uw_height_sd = 0.1\n",
    "\n",
    "uw_tee_mean = 2380.6\n",
    "uw_tee_sd = 384.6\n",
    "\n",
    "uw_bp_mean = 111.3\n",
    "uw_bp_sd = 20.0"
   ]
  },
  {
   "cell_type": "code",
   "execution_count": 12,
   "metadata": {},
   "outputs": [],
   "source": [
    "# Generate random data for each variable with the specified standard deviations\n",
    "uw_age = np.random.normal(uw_age_mean, uw_age_sd, 1000)\n",
    "uw_weight = np.random.normal(uw_weight_mean, uw_weight_sd, 1000)\n",
    "uw_height = np.random.normal(uw_height_mean, uw_height_sd, 1000)\n",
    "uw_tee = np.random.normal(uw_tee_mean, uw_tee_sd, 1000)\n",
    "uw_bp = np.random.normal(uw_bp_mean, uw_bp_sd, 1000)\n",
    "\n",
    "# Create a dataset by combining the variables\n",
    "uw_dataset = np.column_stack((uw_age, uw_height, uw_weight, uw_tee, uw_bp))\n"
   ]
  },
  {
   "cell_type": "code",
   "execution_count": 13,
   "metadata": {},
   "outputs": [
    {
     "data": {
      "text/html": [
       "<div>\n",
       "<style scoped>\n",
       "    .dataframe tbody tr th:only-of-type {\n",
       "        vertical-align: middle;\n",
       "    }\n",
       "\n",
       "    .dataframe tbody tr th {\n",
       "        vertical-align: top;\n",
       "    }\n",
       "\n",
       "    .dataframe thead th {\n",
       "        text-align: right;\n",
       "    }\n",
       "</style>\n",
       "<table border=\"1\" class=\"dataframe\">\n",
       "  <thead>\n",
       "    <tr style=\"text-align: right;\">\n",
       "      <th></th>\n",
       "      <th>uw_age</th>\n",
       "      <th>uw_height</th>\n",
       "      <th>uw_weight</th>\n",
       "      <th>uw_tee</th>\n",
       "      <th>uw_bp</th>\n",
       "    </tr>\n",
       "  </thead>\n",
       "  <tbody>\n",
       "    <tr>\n",
       "      <th>0</th>\n",
       "      <td>51.948600</td>\n",
       "      <td>1.687361</td>\n",
       "      <td>45.534344</td>\n",
       "      <td>2556.497687</td>\n",
       "      <td>130.489214</td>\n",
       "    </tr>\n",
       "    <tr>\n",
       "      <th>1</th>\n",
       "      <td>32.957981</td>\n",
       "      <td>1.673214</td>\n",
       "      <td>39.379667</td>\n",
       "      <td>1881.699514</td>\n",
       "      <td>110.424254</td>\n",
       "    </tr>\n",
       "    <tr>\n",
       "      <th>2</th>\n",
       "      <td>54.289372</td>\n",
       "      <td>1.631749</td>\n",
       "      <td>59.976774</td>\n",
       "      <td>3011.871942</td>\n",
       "      <td>122.557381</td>\n",
       "    </tr>\n",
       "    <tr>\n",
       "      <th>3</th>\n",
       "      <td>42.060036</td>\n",
       "      <td>1.630132</td>\n",
       "      <td>55.133113</td>\n",
       "      <td>2829.458739</td>\n",
       "      <td>100.873121</td>\n",
       "    </tr>\n",
       "    <tr>\n",
       "      <th>4</th>\n",
       "      <td>42.981583</td>\n",
       "      <td>1.587104</td>\n",
       "      <td>40.649827</td>\n",
       "      <td>2540.190061</td>\n",
       "      <td>131.142629</td>\n",
       "    </tr>\n",
       "    <tr>\n",
       "      <th>...</th>\n",
       "      <td>...</td>\n",
       "      <td>...</td>\n",
       "      <td>...</td>\n",
       "      <td>...</td>\n",
       "      <td>...</td>\n",
       "    </tr>\n",
       "    <tr>\n",
       "      <th>995</th>\n",
       "      <td>49.253628</td>\n",
       "      <td>1.646491</td>\n",
       "      <td>41.221928</td>\n",
       "      <td>2316.930287</td>\n",
       "      <td>66.880357</td>\n",
       "    </tr>\n",
       "    <tr>\n",
       "      <th>996</th>\n",
       "      <td>47.605880</td>\n",
       "      <td>1.647830</td>\n",
       "      <td>49.471134</td>\n",
       "      <td>2200.494065</td>\n",
       "      <td>105.467536</td>\n",
       "    </tr>\n",
       "    <tr>\n",
       "      <th>997</th>\n",
       "      <td>59.426531</td>\n",
       "      <td>1.606970</td>\n",
       "      <td>52.467595</td>\n",
       "      <td>2449.758454</td>\n",
       "      <td>89.851178</td>\n",
       "    </tr>\n",
       "    <tr>\n",
       "      <th>998</th>\n",
       "      <td>43.819987</td>\n",
       "      <td>1.407701</td>\n",
       "      <td>56.633505</td>\n",
       "      <td>2615.095064</td>\n",
       "      <td>118.370160</td>\n",
       "    </tr>\n",
       "    <tr>\n",
       "      <th>999</th>\n",
       "      <td>58.848146</td>\n",
       "      <td>1.493402</td>\n",
       "      <td>56.423856</td>\n",
       "      <td>2635.691399</td>\n",
       "      <td>103.821574</td>\n",
       "    </tr>\n",
       "  </tbody>\n",
       "</table>\n",
       "<p>1000 rows × 5 columns</p>\n",
       "</div>"
      ],
      "text/plain": [
       "        uw_age  uw_height  uw_weight       uw_tee       uw_bp\n",
       "0    51.948600   1.687361  45.534344  2556.497687  130.489214\n",
       "1    32.957981   1.673214  39.379667  1881.699514  110.424254\n",
       "2    54.289372   1.631749  59.976774  3011.871942  122.557381\n",
       "3    42.060036   1.630132  55.133113  2829.458739  100.873121\n",
       "4    42.981583   1.587104  40.649827  2540.190061  131.142629\n",
       "..         ...        ...        ...          ...         ...\n",
       "995  49.253628   1.646491  41.221928  2316.930287   66.880357\n",
       "996  47.605880   1.647830  49.471134  2200.494065  105.467536\n",
       "997  59.426531   1.606970  52.467595  2449.758454   89.851178\n",
       "998  43.819987   1.407701  56.633505  2615.095064  118.370160\n",
       "999  58.848146   1.493402  56.423856  2635.691399  103.821574\n",
       "\n",
       "[1000 rows x 5 columns]"
      ]
     },
     "execution_count": 13,
     "metadata": {},
     "output_type": "execute_result"
    }
   ],
   "source": [
    "uw_dataframe = pd.DataFrame(uw_dataset, columns = ['uw_age', 'uw_height', 'uw_weight', 'uw_tee', 'uw_bp'])\n",
    "uw_dataframe"
   ]
  },
  {
   "cell_type": "code",
   "execution_count": 14,
   "metadata": {},
   "outputs": [
    {
     "data": {
      "text/html": [
       "<div>\n",
       "<style scoped>\n",
       "    .dataframe tbody tr th:only-of-type {\n",
       "        vertical-align: middle;\n",
       "    }\n",
       "\n",
       "    .dataframe tbody tr th {\n",
       "        vertical-align: top;\n",
       "    }\n",
       "\n",
       "    .dataframe thead th {\n",
       "        text-align: right;\n",
       "    }\n",
       "</style>\n",
       "<table border=\"1\" class=\"dataframe\">\n",
       "  <thead>\n",
       "    <tr style=\"text-align: right;\">\n",
       "      <th></th>\n",
       "      <th>uw_age</th>\n",
       "      <th>uw_height</th>\n",
       "      <th>uw_weight</th>\n",
       "      <th>uw_tee</th>\n",
       "      <th>uw_bp</th>\n",
       "      <th>Weight Category</th>\n",
       "    </tr>\n",
       "  </thead>\n",
       "  <tbody>\n",
       "    <tr>\n",
       "      <th>0</th>\n",
       "      <td>51.948600</td>\n",
       "      <td>1.687361</td>\n",
       "      <td>45.534344</td>\n",
       "      <td>2556.497687</td>\n",
       "      <td>130.489214</td>\n",
       "      <td>underweight</td>\n",
       "    </tr>\n",
       "    <tr>\n",
       "      <th>1</th>\n",
       "      <td>32.957981</td>\n",
       "      <td>1.673214</td>\n",
       "      <td>39.379667</td>\n",
       "      <td>1881.699514</td>\n",
       "      <td>110.424254</td>\n",
       "      <td>underweight</td>\n",
       "    </tr>\n",
       "    <tr>\n",
       "      <th>2</th>\n",
       "      <td>54.289372</td>\n",
       "      <td>1.631749</td>\n",
       "      <td>59.976774</td>\n",
       "      <td>3011.871942</td>\n",
       "      <td>122.557381</td>\n",
       "      <td>underweight</td>\n",
       "    </tr>\n",
       "    <tr>\n",
       "      <th>3</th>\n",
       "      <td>42.060036</td>\n",
       "      <td>1.630132</td>\n",
       "      <td>55.133113</td>\n",
       "      <td>2829.458739</td>\n",
       "      <td>100.873121</td>\n",
       "      <td>underweight</td>\n",
       "    </tr>\n",
       "    <tr>\n",
       "      <th>4</th>\n",
       "      <td>42.981583</td>\n",
       "      <td>1.587104</td>\n",
       "      <td>40.649827</td>\n",
       "      <td>2540.190061</td>\n",
       "      <td>131.142629</td>\n",
       "      <td>underweight</td>\n",
       "    </tr>\n",
       "    <tr>\n",
       "      <th>...</th>\n",
       "      <td>...</td>\n",
       "      <td>...</td>\n",
       "      <td>...</td>\n",
       "      <td>...</td>\n",
       "      <td>...</td>\n",
       "      <td>...</td>\n",
       "    </tr>\n",
       "    <tr>\n",
       "      <th>995</th>\n",
       "      <td>49.253628</td>\n",
       "      <td>1.646491</td>\n",
       "      <td>41.221928</td>\n",
       "      <td>2316.930287</td>\n",
       "      <td>66.880357</td>\n",
       "      <td>underweight</td>\n",
       "    </tr>\n",
       "    <tr>\n",
       "      <th>996</th>\n",
       "      <td>47.605880</td>\n",
       "      <td>1.647830</td>\n",
       "      <td>49.471134</td>\n",
       "      <td>2200.494065</td>\n",
       "      <td>105.467536</td>\n",
       "      <td>underweight</td>\n",
       "    </tr>\n",
       "    <tr>\n",
       "      <th>997</th>\n",
       "      <td>59.426531</td>\n",
       "      <td>1.606970</td>\n",
       "      <td>52.467595</td>\n",
       "      <td>2449.758454</td>\n",
       "      <td>89.851178</td>\n",
       "      <td>underweight</td>\n",
       "    </tr>\n",
       "    <tr>\n",
       "      <th>998</th>\n",
       "      <td>43.819987</td>\n",
       "      <td>1.407701</td>\n",
       "      <td>56.633505</td>\n",
       "      <td>2615.095064</td>\n",
       "      <td>118.370160</td>\n",
       "      <td>underweight</td>\n",
       "    </tr>\n",
       "    <tr>\n",
       "      <th>999</th>\n",
       "      <td>58.848146</td>\n",
       "      <td>1.493402</td>\n",
       "      <td>56.423856</td>\n",
       "      <td>2635.691399</td>\n",
       "      <td>103.821574</td>\n",
       "      <td>underweight</td>\n",
       "    </tr>\n",
       "  </tbody>\n",
       "</table>\n",
       "<p>1000 rows × 6 columns</p>\n",
       "</div>"
      ],
      "text/plain": [
       "        uw_age  uw_height  uw_weight       uw_tee       uw_bp Weight Category\n",
       "0    51.948600   1.687361  45.534344  2556.497687  130.489214     underweight\n",
       "1    32.957981   1.673214  39.379667  1881.699514  110.424254     underweight\n",
       "2    54.289372   1.631749  59.976774  3011.871942  122.557381     underweight\n",
       "3    42.060036   1.630132  55.133113  2829.458739  100.873121     underweight\n",
       "4    42.981583   1.587104  40.649827  2540.190061  131.142629     underweight\n",
       "..         ...        ...        ...          ...         ...             ...\n",
       "995  49.253628   1.646491  41.221928  2316.930287   66.880357     underweight\n",
       "996  47.605880   1.647830  49.471134  2200.494065  105.467536     underweight\n",
       "997  59.426531   1.606970  52.467595  2449.758454   89.851178     underweight\n",
       "998  43.819987   1.407701  56.633505  2615.095064  118.370160     underweight\n",
       "999  58.848146   1.493402  56.423856  2635.691399  103.821574     underweight\n",
       "\n",
       "[1000 rows x 6 columns]"
      ]
     },
     "execution_count": 14,
     "metadata": {},
     "output_type": "execute_result"
    }
   ],
   "source": [
    "uw_cat_df = pd.DataFrame (['underweight'] * 1000,  columns=['Weight Category'])\n",
    "uw_dataframe1 = pd.concat([ uw_dataframe, uw_cat_df], axis = 1)\n",
    "uw_dataframe1"
   ]
  },
  {
   "cell_type": "markdown",
   "metadata": {},
   "source": [
    "## Obese Weight Data Generation\n",
    "***"
   ]
  },
  {
   "cell_type": "code",
   "execution_count": 15,
   "metadata": {},
   "outputs": [
    {
     "data": {
      "text/plain": [
       "2346.0948477922675"
      ]
     },
     "execution_count": 15,
     "metadata": {},
     "output_type": "execute_result"
    }
   ],
   "source": [
    "# Define the means and standard deviations for the \"obese\" variables\n",
    "obese_age_mean = 48.4\n",
    "obese_age_sd = 7.9\n",
    "\n",
    "obese_weight_mean = 81.6\n",
    "obese_weight_sd = 14.8\n",
    "\n",
    "obese_height_mean = 1.5\n",
    "obese_height_sd = 0.1\n",
    "\n",
    "obese_tee_mean = 2344.0\n",
    "obese_tee_sd = 269.9\n",
    "\n",
    "obese_bp_mean = 122.6\n",
    "obese_bp_sd = 26.2\n",
    "\n",
    "# Generate random data for each variable with the specified standard deviations\n",
    "# Assumption data being reverse engineered is normally distributed\n",
    "obese_age = np.random.normal(obese_age_mean, obese_age_sd, 1000)\n",
    "obese_weight = np.random.normal(obese_weight_mean, obese_weight_sd, 1000)\n",
    "obese_height = np.random.normal(obese_height_mean, obese_height_sd, 1000)\n",
    "obese_tee = np.random.normal(obese_tee_mean, obese_tee_sd, 1000)\n",
    "obese_bp = np.random.normal(obese_bp_mean, obese_bp_sd, 1000)\n",
    "\n",
    "# Create a dataset by combining the variables\n",
    "obese_dataset = np.column_stack((obese_age, obese_height, obese_weight, obese_tee, obese_bp))\n",
    "#obese_dataset [:5]\n",
    "obese_tee.mean()"
   ]
  },
  {
   "cell_type": "code",
   "execution_count": 16,
   "metadata": {},
   "outputs": [
    {
     "data": {
      "text/html": [
       "<div>\n",
       "<style scoped>\n",
       "    .dataframe tbody tr th:only-of-type {\n",
       "        vertical-align: middle;\n",
       "    }\n",
       "\n",
       "    .dataframe tbody tr th {\n",
       "        vertical-align: top;\n",
       "    }\n",
       "\n",
       "    .dataframe thead th {\n",
       "        text-align: right;\n",
       "    }\n",
       "</style>\n",
       "<table border=\"1\" class=\"dataframe\">\n",
       "  <thead>\n",
       "    <tr style=\"text-align: right;\">\n",
       "      <th></th>\n",
       "      <th>obese_age</th>\n",
       "      <th>obese_height</th>\n",
       "      <th>obese_weight</th>\n",
       "      <th>obese_tee</th>\n",
       "      <th>obese_bp</th>\n",
       "    </tr>\n",
       "  </thead>\n",
       "  <tbody>\n",
       "    <tr>\n",
       "      <th>0</th>\n",
       "      <td>75.446950</td>\n",
       "      <td>1.382127</td>\n",
       "      <td>80.691533</td>\n",
       "      <td>2188.239274</td>\n",
       "      <td>175.087954</td>\n",
       "    </tr>\n",
       "    <tr>\n",
       "      <th>1</th>\n",
       "      <td>48.458515</td>\n",
       "      <td>1.399742</td>\n",
       "      <td>83.378472</td>\n",
       "      <td>2318.505489</td>\n",
       "      <td>154.904479</td>\n",
       "    </tr>\n",
       "    <tr>\n",
       "      <th>2</th>\n",
       "      <td>35.348020</td>\n",
       "      <td>1.593376</td>\n",
       "      <td>94.260294</td>\n",
       "      <td>2123.822951</td>\n",
       "      <td>130.700043</td>\n",
       "    </tr>\n",
       "    <tr>\n",
       "      <th>3</th>\n",
       "      <td>46.379392</td>\n",
       "      <td>1.540773</td>\n",
       "      <td>69.035306</td>\n",
       "      <td>2432.158722</td>\n",
       "      <td>135.440027</td>\n",
       "    </tr>\n",
       "    <tr>\n",
       "      <th>4</th>\n",
       "      <td>54.845051</td>\n",
       "      <td>1.418612</td>\n",
       "      <td>70.366558</td>\n",
       "      <td>1748.616994</td>\n",
       "      <td>137.247756</td>\n",
       "    </tr>\n",
       "    <tr>\n",
       "      <th>...</th>\n",
       "      <td>...</td>\n",
       "      <td>...</td>\n",
       "      <td>...</td>\n",
       "      <td>...</td>\n",
       "      <td>...</td>\n",
       "    </tr>\n",
       "    <tr>\n",
       "      <th>995</th>\n",
       "      <td>43.638775</td>\n",
       "      <td>1.621331</td>\n",
       "      <td>73.080586</td>\n",
       "      <td>2796.138162</td>\n",
       "      <td>126.973027</td>\n",
       "    </tr>\n",
       "    <tr>\n",
       "      <th>996</th>\n",
       "      <td>56.985942</td>\n",
       "      <td>1.508745</td>\n",
       "      <td>72.377856</td>\n",
       "      <td>2229.800657</td>\n",
       "      <td>121.775737</td>\n",
       "    </tr>\n",
       "    <tr>\n",
       "      <th>997</th>\n",
       "      <td>53.410072</td>\n",
       "      <td>1.616814</td>\n",
       "      <td>82.582091</td>\n",
       "      <td>2047.314318</td>\n",
       "      <td>110.130099</td>\n",
       "    </tr>\n",
       "    <tr>\n",
       "      <th>998</th>\n",
       "      <td>53.031552</td>\n",
       "      <td>1.497449</td>\n",
       "      <td>75.109161</td>\n",
       "      <td>2487.557943</td>\n",
       "      <td>90.416072</td>\n",
       "    </tr>\n",
       "    <tr>\n",
       "      <th>999</th>\n",
       "      <td>50.247890</td>\n",
       "      <td>1.432541</td>\n",
       "      <td>78.876188</td>\n",
       "      <td>2158.751403</td>\n",
       "      <td>159.573210</td>\n",
       "    </tr>\n",
       "  </tbody>\n",
       "</table>\n",
       "<p>1000 rows × 5 columns</p>\n",
       "</div>"
      ],
      "text/plain": [
       "     obese_age  obese_height  obese_weight    obese_tee    obese_bp\n",
       "0    75.446950      1.382127     80.691533  2188.239274  175.087954\n",
       "1    48.458515      1.399742     83.378472  2318.505489  154.904479\n",
       "2    35.348020      1.593376     94.260294  2123.822951  130.700043\n",
       "3    46.379392      1.540773     69.035306  2432.158722  135.440027\n",
       "4    54.845051      1.418612     70.366558  1748.616994  137.247756\n",
       "..         ...           ...           ...          ...         ...\n",
       "995  43.638775      1.621331     73.080586  2796.138162  126.973027\n",
       "996  56.985942      1.508745     72.377856  2229.800657  121.775737\n",
       "997  53.410072      1.616814     82.582091  2047.314318  110.130099\n",
       "998  53.031552      1.497449     75.109161  2487.557943   90.416072\n",
       "999  50.247890      1.432541     78.876188  2158.751403  159.573210\n",
       "\n",
       "[1000 rows x 5 columns]"
      ]
     },
     "execution_count": 16,
     "metadata": {},
     "output_type": "execute_result"
    }
   ],
   "source": [
    "ob_dataframe = pd.DataFrame(obese_dataset, columns = ['obese_age', 'obese_height', 'obese_weight', 'obese_tee', 'obese_bp'])\n",
    "ob_dataframe"
   ]
  },
  {
   "cell_type": "code",
   "execution_count": 17,
   "metadata": {},
   "outputs": [
    {
     "data": {
      "text/html": [
       "<div>\n",
       "<style scoped>\n",
       "    .dataframe tbody tr th:only-of-type {\n",
       "        vertical-align: middle;\n",
       "    }\n",
       "\n",
       "    .dataframe tbody tr th {\n",
       "        vertical-align: top;\n",
       "    }\n",
       "\n",
       "    .dataframe thead th {\n",
       "        text-align: right;\n",
       "    }\n",
       "</style>\n",
       "<table border=\"1\" class=\"dataframe\">\n",
       "  <thead>\n",
       "    <tr style=\"text-align: right;\">\n",
       "      <th></th>\n",
       "      <th>obese_age</th>\n",
       "      <th>obese_height</th>\n",
       "      <th>obese_weight</th>\n",
       "      <th>obese_tee</th>\n",
       "      <th>obese_bp</th>\n",
       "      <th>Weight Category</th>\n",
       "    </tr>\n",
       "  </thead>\n",
       "  <tbody>\n",
       "    <tr>\n",
       "      <th>0</th>\n",
       "      <td>75.446950</td>\n",
       "      <td>1.382127</td>\n",
       "      <td>80.691533</td>\n",
       "      <td>2188.239274</td>\n",
       "      <td>175.087954</td>\n",
       "      <td>obese weight</td>\n",
       "    </tr>\n",
       "    <tr>\n",
       "      <th>1</th>\n",
       "      <td>48.458515</td>\n",
       "      <td>1.399742</td>\n",
       "      <td>83.378472</td>\n",
       "      <td>2318.505489</td>\n",
       "      <td>154.904479</td>\n",
       "      <td>obese weight</td>\n",
       "    </tr>\n",
       "    <tr>\n",
       "      <th>2</th>\n",
       "      <td>35.348020</td>\n",
       "      <td>1.593376</td>\n",
       "      <td>94.260294</td>\n",
       "      <td>2123.822951</td>\n",
       "      <td>130.700043</td>\n",
       "      <td>obese weight</td>\n",
       "    </tr>\n",
       "    <tr>\n",
       "      <th>3</th>\n",
       "      <td>46.379392</td>\n",
       "      <td>1.540773</td>\n",
       "      <td>69.035306</td>\n",
       "      <td>2432.158722</td>\n",
       "      <td>135.440027</td>\n",
       "      <td>obese weight</td>\n",
       "    </tr>\n",
       "    <tr>\n",
       "      <th>4</th>\n",
       "      <td>54.845051</td>\n",
       "      <td>1.418612</td>\n",
       "      <td>70.366558</td>\n",
       "      <td>1748.616994</td>\n",
       "      <td>137.247756</td>\n",
       "      <td>obese weight</td>\n",
       "    </tr>\n",
       "    <tr>\n",
       "      <th>...</th>\n",
       "      <td>...</td>\n",
       "      <td>...</td>\n",
       "      <td>...</td>\n",
       "      <td>...</td>\n",
       "      <td>...</td>\n",
       "      <td>...</td>\n",
       "    </tr>\n",
       "    <tr>\n",
       "      <th>995</th>\n",
       "      <td>43.638775</td>\n",
       "      <td>1.621331</td>\n",
       "      <td>73.080586</td>\n",
       "      <td>2796.138162</td>\n",
       "      <td>126.973027</td>\n",
       "      <td>obese weight</td>\n",
       "    </tr>\n",
       "    <tr>\n",
       "      <th>996</th>\n",
       "      <td>56.985942</td>\n",
       "      <td>1.508745</td>\n",
       "      <td>72.377856</td>\n",
       "      <td>2229.800657</td>\n",
       "      <td>121.775737</td>\n",
       "      <td>obese weight</td>\n",
       "    </tr>\n",
       "    <tr>\n",
       "      <th>997</th>\n",
       "      <td>53.410072</td>\n",
       "      <td>1.616814</td>\n",
       "      <td>82.582091</td>\n",
       "      <td>2047.314318</td>\n",
       "      <td>110.130099</td>\n",
       "      <td>obese weight</td>\n",
       "    </tr>\n",
       "    <tr>\n",
       "      <th>998</th>\n",
       "      <td>53.031552</td>\n",
       "      <td>1.497449</td>\n",
       "      <td>75.109161</td>\n",
       "      <td>2487.557943</td>\n",
       "      <td>90.416072</td>\n",
       "      <td>obese weight</td>\n",
       "    </tr>\n",
       "    <tr>\n",
       "      <th>999</th>\n",
       "      <td>50.247890</td>\n",
       "      <td>1.432541</td>\n",
       "      <td>78.876188</td>\n",
       "      <td>2158.751403</td>\n",
       "      <td>159.573210</td>\n",
       "      <td>obese weight</td>\n",
       "    </tr>\n",
       "  </tbody>\n",
       "</table>\n",
       "<p>1000 rows × 6 columns</p>\n",
       "</div>"
      ],
      "text/plain": [
       "     obese_age  obese_height  obese_weight    obese_tee    obese_bp  \\\n",
       "0    75.446950      1.382127     80.691533  2188.239274  175.087954   \n",
       "1    48.458515      1.399742     83.378472  2318.505489  154.904479   \n",
       "2    35.348020      1.593376     94.260294  2123.822951  130.700043   \n",
       "3    46.379392      1.540773     69.035306  2432.158722  135.440027   \n",
       "4    54.845051      1.418612     70.366558  1748.616994  137.247756   \n",
       "..         ...           ...           ...          ...         ...   \n",
       "995  43.638775      1.621331     73.080586  2796.138162  126.973027   \n",
       "996  56.985942      1.508745     72.377856  2229.800657  121.775737   \n",
       "997  53.410072      1.616814     82.582091  2047.314318  110.130099   \n",
       "998  53.031552      1.497449     75.109161  2487.557943   90.416072   \n",
       "999  50.247890      1.432541     78.876188  2158.751403  159.573210   \n",
       "\n",
       "    Weight Category  \n",
       "0      obese weight  \n",
       "1      obese weight  \n",
       "2      obese weight  \n",
       "3      obese weight  \n",
       "4      obese weight  \n",
       "..              ...  \n",
       "995    obese weight  \n",
       "996    obese weight  \n",
       "997    obese weight  \n",
       "998    obese weight  \n",
       "999    obese weight  \n",
       "\n",
       "[1000 rows x 6 columns]"
      ]
     },
     "execution_count": 17,
     "metadata": {},
     "output_type": "execute_result"
    }
   ],
   "source": [
    "obese_cat_df = pd.DataFrame (['obese weight'] * 1000,  columns=['Weight Category'])\n",
    "obese_dataframe1 = pd.concat([ob_dataframe, obese_cat_df], axis = 1)\n",
    "obese_dataframe1"
   ]
  },
  {
   "cell_type": "markdown",
   "metadata": {},
   "source": [
    "### Concatonating data "
   ]
  },
  {
   "cell_type": "code",
   "execution_count": 18,
   "metadata": {},
   "outputs": [
    {
     "data": {
      "text/plain": [
       "pandas.core.frame.DataFrame"
      ]
     },
     "execution_count": 18,
     "metadata": {},
     "output_type": "execute_result"
    }
   ],
   "source": [
    "hw_age = hw_dataframe['hw_age']\n",
    "uw_age = uw_dataframe['uw_age']\n",
    "obese_age = ob_dataframe['obese_age']\n",
    "age = pd.concat([hw_age, uw_age, obese_age], ignore_index=True)\n",
    "age_df = pd.DataFrame(age)\n",
    "type (age_df)"
   ]
  },
  {
   "cell_type": "code",
   "execution_count": 19,
   "metadata": {},
   "outputs": [
    {
     "name": "stdout",
     "output_type": "stream",
     "text": [
      "<class 'pandas.core.frame.DataFrame'>\n",
      "RangeIndex: 3000 entries, 0 to 2999\n",
      "Data columns (total 1 columns):\n",
      " #   Column  Non-Null Count  Dtype  \n",
      "---  ------  --------------  -----  \n",
      " 0   0       3000 non-null   float64\n",
      "dtypes: float64(1)\n",
      "memory usage: 23.6 KB\n"
     ]
    }
   ],
   "source": [
    "age_df.info()"
   ]
  },
  {
   "cell_type": "code",
   "execution_count": 20,
   "metadata": {},
   "outputs": [],
   "source": [
    "hw_weight = hw_dataframe['hw_weight']\n",
    "uw_weight = uw_dataframe['uw_weight']\n",
    "obese_weight = ob_dataframe['obese_weight']\n",
    "weight = pd.concat([hw_weight, uw_weight, obese_weight], ignore_index=True)\n",
    "weight_df = pd.DataFrame(weight)"
   ]
  },
  {
   "cell_type": "code",
   "execution_count": 21,
   "metadata": {},
   "outputs": [],
   "source": [
    "hw_height = hw_dataframe['hw_height']\n",
    "uw_height = uw_dataframe['uw_height']\n",
    "obese_height = ob_dataframe['obese_height']\n",
    "height = pd.concat([hw_height, uw_height, obese_height], ignore_index=True)\n",
    "height_df = pd.DataFrame(height)"
   ]
  },
  {
   "cell_type": "code",
   "execution_count": 22,
   "metadata": {},
   "outputs": [],
   "source": [
    "hw_tee = hw_dataframe['hw_tee']\n",
    "uw_tee = uw_dataframe['uw_tee']\n",
    "obese_tee = ob_dataframe['obese_tee']\n",
    "tee = pd.concat([hw_tee, uw_tee, obese_tee], ignore_index=True)\n",
    "tee_df = pd.DataFrame(tee)"
   ]
  },
  {
   "cell_type": "code",
   "execution_count": 23,
   "metadata": {},
   "outputs": [],
   "source": [
    "hw_bp = hw_dataframe['hw_bp']\n",
    "uw_bp = uw_dataframe['uw_bp']\n",
    "obese_bp = ob_dataframe['obese_bp']\n",
    "bp = pd.concat([hw_bp, uw_bp, obese_bp], ignore_index=True)\n",
    "bp_df = pd.DataFrame(bp)"
   ]
  },
  {
   "cell_type": "code",
   "execution_count": 24,
   "metadata": {},
   "outputs": [
    {
     "data": {
      "text/html": [
       "<div>\n",
       "<style scoped>\n",
       "    .dataframe tbody tr th:only-of-type {\n",
       "        vertical-align: middle;\n",
       "    }\n",
       "\n",
       "    .dataframe tbody tr th {\n",
       "        vertical-align: top;\n",
       "    }\n",
       "\n",
       "    .dataframe thead th {\n",
       "        text-align: right;\n",
       "    }\n",
       "</style>\n",
       "<table border=\"1\" class=\"dataframe\">\n",
       "  <thead>\n",
       "    <tr style=\"text-align: right;\">\n",
       "      <th></th>\n",
       "      <th>Age</th>\n",
       "      <th>Weight</th>\n",
       "      <th>Height</th>\n",
       "      <th>Total Energy Ex</th>\n",
       "      <th>Blood Pressure</th>\n",
       "    </tr>\n",
       "  </thead>\n",
       "  <tbody>\n",
       "    <tr>\n",
       "      <th>0</th>\n",
       "      <td>55.507218</td>\n",
       "      <td>59.631831</td>\n",
       "      <td>1.558117</td>\n",
       "      <td>2152.878630</td>\n",
       "      <td>107.431542</td>\n",
       "    </tr>\n",
       "    <tr>\n",
       "      <th>1</th>\n",
       "      <td>54.439967</td>\n",
       "      <td>40.095944</td>\n",
       "      <td>1.682875</td>\n",
       "      <td>2534.513766</td>\n",
       "      <td>124.247989</td>\n",
       "    </tr>\n",
       "    <tr>\n",
       "      <th>2</th>\n",
       "      <td>42.326951</td>\n",
       "      <td>62.062871</td>\n",
       "      <td>1.571694</td>\n",
       "      <td>2204.233616</td>\n",
       "      <td>86.221905</td>\n",
       "    </tr>\n",
       "    <tr>\n",
       "      <th>3</th>\n",
       "      <td>68.173877</td>\n",
       "      <td>57.312303</td>\n",
       "      <td>1.616693</td>\n",
       "      <td>2360.353194</td>\n",
       "      <td>116.942958</td>\n",
       "    </tr>\n",
       "    <tr>\n",
       "      <th>4</th>\n",
       "      <td>68.456679</td>\n",
       "      <td>37.726058</td>\n",
       "      <td>1.741797</td>\n",
       "      <td>2516.122577</td>\n",
       "      <td>167.757269</td>\n",
       "    </tr>\n",
       "    <tr>\n",
       "      <th>...</th>\n",
       "      <td>...</td>\n",
       "      <td>...</td>\n",
       "      <td>...</td>\n",
       "      <td>...</td>\n",
       "      <td>...</td>\n",
       "    </tr>\n",
       "    <tr>\n",
       "      <th>2995</th>\n",
       "      <td>43.638775</td>\n",
       "      <td>73.080586</td>\n",
       "      <td>1.621331</td>\n",
       "      <td>2796.138162</td>\n",
       "      <td>126.973027</td>\n",
       "    </tr>\n",
       "    <tr>\n",
       "      <th>2996</th>\n",
       "      <td>56.985942</td>\n",
       "      <td>72.377856</td>\n",
       "      <td>1.508745</td>\n",
       "      <td>2229.800657</td>\n",
       "      <td>121.775737</td>\n",
       "    </tr>\n",
       "    <tr>\n",
       "      <th>2997</th>\n",
       "      <td>53.410072</td>\n",
       "      <td>82.582091</td>\n",
       "      <td>1.616814</td>\n",
       "      <td>2047.314318</td>\n",
       "      <td>110.130099</td>\n",
       "    </tr>\n",
       "    <tr>\n",
       "      <th>2998</th>\n",
       "      <td>53.031552</td>\n",
       "      <td>75.109161</td>\n",
       "      <td>1.497449</td>\n",
       "      <td>2487.557943</td>\n",
       "      <td>90.416072</td>\n",
       "    </tr>\n",
       "    <tr>\n",
       "      <th>2999</th>\n",
       "      <td>50.247890</td>\n",
       "      <td>78.876188</td>\n",
       "      <td>1.432541</td>\n",
       "      <td>2158.751403</td>\n",
       "      <td>159.573210</td>\n",
       "    </tr>\n",
       "  </tbody>\n",
       "</table>\n",
       "<p>3000 rows × 5 columns</p>\n",
       "</div>"
      ],
      "text/plain": [
       "            Age     Weight    Height  Total Energy Ex  Blood Pressure\n",
       "0     55.507218  59.631831  1.558117      2152.878630      107.431542\n",
       "1     54.439967  40.095944  1.682875      2534.513766      124.247989\n",
       "2     42.326951  62.062871  1.571694      2204.233616       86.221905\n",
       "3     68.173877  57.312303  1.616693      2360.353194      116.942958\n",
       "4     68.456679  37.726058  1.741797      2516.122577      167.757269\n",
       "...         ...        ...       ...              ...             ...\n",
       "2995  43.638775  73.080586  1.621331      2796.138162      126.973027\n",
       "2996  56.985942  72.377856  1.508745      2229.800657      121.775737\n",
       "2997  53.410072  82.582091  1.616814      2047.314318      110.130099\n",
       "2998  53.031552  75.109161  1.497449      2487.557943       90.416072\n",
       "2999  50.247890  78.876188  1.432541      2158.751403      159.573210\n",
       "\n",
       "[3000 rows x 5 columns]"
      ]
     },
     "execution_count": 24,
     "metadata": {},
     "output_type": "execute_result"
    }
   ],
   "source": [
    "combined_continuous = pd.concat([age_df , weight_df,height_df, tee_df, bp_df], axis=1)\n",
    "combined_continuous.columns = ['Age' , 'Weight', 'Height', 'Total Energy Ex', 'Blood Pressure' ]\n",
    "combined_continuous"
   ]
  },
  {
   "cell_type": "markdown",
   "metadata": {},
   "source": [
    "### Generating the Categorical Variable 'Weight Category'"
   ]
  },
  {
   "cell_type": "code",
   "execution_count": 25,
   "metadata": {},
   "outputs": [
    {
     "data": {
      "text/html": [
       "<div>\n",
       "<style scoped>\n",
       "    .dataframe tbody tr th:only-of-type {\n",
       "        vertical-align: middle;\n",
       "    }\n",
       "\n",
       "    .dataframe tbody tr th {\n",
       "        vertical-align: top;\n",
       "    }\n",
       "\n",
       "    .dataframe thead th {\n",
       "        text-align: right;\n",
       "    }\n",
       "</style>\n",
       "<table border=\"1\" class=\"dataframe\">\n",
       "  <thead>\n",
       "    <tr style=\"text-align: right;\">\n",
       "      <th></th>\n",
       "      <th>Weight Category</th>\n",
       "    </tr>\n",
       "  </thead>\n",
       "  <tbody>\n",
       "    <tr>\n",
       "      <th>0</th>\n",
       "      <td>healty weight</td>\n",
       "    </tr>\n",
       "    <tr>\n",
       "      <th>1</th>\n",
       "      <td>healty weight</td>\n",
       "    </tr>\n",
       "    <tr>\n",
       "      <th>2</th>\n",
       "      <td>healty weight</td>\n",
       "    </tr>\n",
       "    <tr>\n",
       "      <th>3</th>\n",
       "      <td>healty weight</td>\n",
       "    </tr>\n",
       "    <tr>\n",
       "      <th>4</th>\n",
       "      <td>healty weight</td>\n",
       "    </tr>\n",
       "    <tr>\n",
       "      <th>...</th>\n",
       "      <td>...</td>\n",
       "    </tr>\n",
       "    <tr>\n",
       "      <th>995</th>\n",
       "      <td>obese weight</td>\n",
       "    </tr>\n",
       "    <tr>\n",
       "      <th>996</th>\n",
       "      <td>obese weight</td>\n",
       "    </tr>\n",
       "    <tr>\n",
       "      <th>997</th>\n",
       "      <td>obese weight</td>\n",
       "    </tr>\n",
       "    <tr>\n",
       "      <th>998</th>\n",
       "      <td>obese weight</td>\n",
       "    </tr>\n",
       "    <tr>\n",
       "      <th>999</th>\n",
       "      <td>obese weight</td>\n",
       "    </tr>\n",
       "  </tbody>\n",
       "</table>\n",
       "<p>3000 rows × 1 columns</p>\n",
       "</div>"
      ],
      "text/plain": [
       "    Weight Category\n",
       "0     healty weight\n",
       "1     healty weight\n",
       "2     healty weight\n",
       "3     healty weight\n",
       "4     healty weight\n",
       "..              ...\n",
       "995    obese weight\n",
       "996    obese weight\n",
       "997    obese weight\n",
       "998    obese weight\n",
       "999    obese weight\n",
       "\n",
       "[3000 rows x 1 columns]"
      ]
     },
     "execution_count": 25,
     "metadata": {},
     "output_type": "execute_result"
    }
   ],
   "source": [
    "hw = hw_dataframe1['Weight Category']\n",
    "uw = uw_dataframe1['Weight Category']\n",
    "obese = obese_dataframe1['Weight Category']\n",
    "weightcat = pd.concat([hw, uw, obese])\n",
    "weightcat_df = pd.DataFrame(weightcat)\n",
    "weightcat_df"
   ]
  },
  {
   "cell_type": "code",
   "execution_count": 26,
   "metadata": {},
   "outputs": [
    {
     "ename": "InvalidIndexError",
     "evalue": "Reindexing only valid with uniquely valued Index objects",
     "output_type": "error",
     "traceback": [
      "\u001b[1;31m---------------------------------------------------------------------------\u001b[0m",
      "\u001b[1;31mInvalidIndexError\u001b[0m                         Traceback (most recent call last)",
      "\u001b[1;32mc:\\Users\\kellye.GLOBAL\\REPOS\\Prog_for_DA\\project_1.ipynb Cell 43\u001b[0m line \u001b[0;36m1\n\u001b[1;32m----> <a href='vscode-notebook-cell:/c%3A/Users/kellye.GLOBAL/REPOS/Prog_for_DA/project_1.ipynb#X61sZmlsZQ%3D%3D?line=0'>1</a>\u001b[0m combined_all \u001b[39m=\u001b[39m pd\u001b[39m.\u001b[39;49mconcat([combined_continuous, weightcat_df], axis\u001b[39m=\u001b[39;49m\u001b[39m1\u001b[39;49m)\n\u001b[0;32m      <a href='vscode-notebook-cell:/c%3A/Users/kellye.GLOBAL/REPOS/Prog_for_DA/project_1.ipynb#X61sZmlsZQ%3D%3D?line=1'>2</a>\u001b[0m combined_all\n",
      "File \u001b[1;32mc:\\Users\\kellye.GLOBAL\\AppData\\Local\\anaconda3\\lib\\site-packages\\pandas\\util\\_decorators.py:331\u001b[0m, in \u001b[0;36mdeprecate_nonkeyword_arguments.<locals>.decorate.<locals>.wrapper\u001b[1;34m(*args, **kwargs)\u001b[0m\n\u001b[0;32m    325\u001b[0m \u001b[39mif\u001b[39;00m \u001b[39mlen\u001b[39m(args) \u001b[39m>\u001b[39m num_allow_args:\n\u001b[0;32m    326\u001b[0m     warnings\u001b[39m.\u001b[39mwarn(\n\u001b[0;32m    327\u001b[0m         msg\u001b[39m.\u001b[39mformat(arguments\u001b[39m=\u001b[39m_format_argument_list(allow_args)),\n\u001b[0;32m    328\u001b[0m         \u001b[39mFutureWarning\u001b[39;00m,\n\u001b[0;32m    329\u001b[0m         stacklevel\u001b[39m=\u001b[39mfind_stack_level(),\n\u001b[0;32m    330\u001b[0m     )\n\u001b[1;32m--> 331\u001b[0m \u001b[39mreturn\u001b[39;00m func(\u001b[39m*\u001b[39margs, \u001b[39m*\u001b[39m\u001b[39m*\u001b[39mkwargs)\n",
      "File \u001b[1;32mc:\\Users\\kellye.GLOBAL\\AppData\\Local\\anaconda3\\lib\\site-packages\\pandas\\core\\reshape\\concat.py:381\u001b[0m, in \u001b[0;36mconcat\u001b[1;34m(objs, axis, join, ignore_index, keys, levels, names, verify_integrity, sort, copy)\u001b[0m\n\u001b[0;32m    159\u001b[0m \u001b[39m\"\"\"\u001b[39;00m\n\u001b[0;32m    160\u001b[0m \u001b[39mConcatenate pandas objects along a particular axis.\u001b[39;00m\n\u001b[0;32m    161\u001b[0m \n\u001b[1;32m   (...)\u001b[0m\n\u001b[0;32m    366\u001b[0m \u001b[39m1   3   4\u001b[39;00m\n\u001b[0;32m    367\u001b[0m \u001b[39m\"\"\"\u001b[39;00m\n\u001b[0;32m    368\u001b[0m op \u001b[39m=\u001b[39m _Concatenator(\n\u001b[0;32m    369\u001b[0m     objs,\n\u001b[0;32m    370\u001b[0m     axis\u001b[39m=\u001b[39maxis,\n\u001b[1;32m   (...)\u001b[0m\n\u001b[0;32m    378\u001b[0m     sort\u001b[39m=\u001b[39msort,\n\u001b[0;32m    379\u001b[0m )\n\u001b[1;32m--> 381\u001b[0m \u001b[39mreturn\u001b[39;00m op\u001b[39m.\u001b[39;49mget_result()\n",
      "File \u001b[1;32mc:\\Users\\kellye.GLOBAL\\AppData\\Local\\anaconda3\\lib\\site-packages\\pandas\\core\\reshape\\concat.py:612\u001b[0m, in \u001b[0;36m_Concatenator.get_result\u001b[1;34m(self)\u001b[0m\n\u001b[0;32m    610\u001b[0m         obj_labels \u001b[39m=\u001b[39m obj\u001b[39m.\u001b[39maxes[\u001b[39m1\u001b[39m \u001b[39m-\u001b[39m ax]\n\u001b[0;32m    611\u001b[0m         \u001b[39mif\u001b[39;00m \u001b[39mnot\u001b[39;00m new_labels\u001b[39m.\u001b[39mequals(obj_labels):\n\u001b[1;32m--> 612\u001b[0m             indexers[ax] \u001b[39m=\u001b[39m obj_labels\u001b[39m.\u001b[39;49mget_indexer(new_labels)\n\u001b[0;32m    614\u001b[0m     mgrs_indexers\u001b[39m.\u001b[39mappend((obj\u001b[39m.\u001b[39m_mgr, indexers))\n\u001b[0;32m    616\u001b[0m new_data \u001b[39m=\u001b[39m concatenate_managers(\n\u001b[0;32m    617\u001b[0m     mgrs_indexers, \u001b[39mself\u001b[39m\u001b[39m.\u001b[39mnew_axes, concat_axis\u001b[39m=\u001b[39m\u001b[39mself\u001b[39m\u001b[39m.\u001b[39mbm_axis, copy\u001b[39m=\u001b[39m\u001b[39mself\u001b[39m\u001b[39m.\u001b[39mcopy\n\u001b[0;32m    618\u001b[0m )\n",
      "File \u001b[1;32mc:\\Users\\kellye.GLOBAL\\AppData\\Local\\anaconda3\\lib\\site-packages\\pandas\\core\\indexes\\base.py:3904\u001b[0m, in \u001b[0;36mIndex.get_indexer\u001b[1;34m(self, target, method, limit, tolerance)\u001b[0m\n\u001b[0;32m   3901\u001b[0m \u001b[39mself\u001b[39m\u001b[39m.\u001b[39m_check_indexing_method(method, limit, tolerance)\n\u001b[0;32m   3903\u001b[0m \u001b[39mif\u001b[39;00m \u001b[39mnot\u001b[39;00m \u001b[39mself\u001b[39m\u001b[39m.\u001b[39m_index_as_unique:\n\u001b[1;32m-> 3904\u001b[0m     \u001b[39mraise\u001b[39;00m InvalidIndexError(\u001b[39mself\u001b[39m\u001b[39m.\u001b[39m_requires_unique_msg)\n\u001b[0;32m   3906\u001b[0m \u001b[39mif\u001b[39;00m \u001b[39mlen\u001b[39m(target) \u001b[39m==\u001b[39m \u001b[39m0\u001b[39m:\n\u001b[0;32m   3907\u001b[0m     \u001b[39mreturn\u001b[39;00m np\u001b[39m.\u001b[39marray([], dtype\u001b[39m=\u001b[39mnp\u001b[39m.\u001b[39mintp)\n",
      "\u001b[1;31mInvalidIndexError\u001b[0m: Reindexing only valid with uniquely valued Index objects"
     ]
    }
   ],
   "source": [
    "combined_all = pd.concat([combined_continuous, weightcat_df], axis=1)\n",
    "combined_all"
   ]
  },
  {
   "cell_type": "markdown",
   "metadata": {},
   "source": [
    "## Histogram of continuous variables\n",
    "***"
   ]
  },
  {
   "cell_type": "code",
   "execution_count": null,
   "metadata": {},
   "outputs": [],
   "source": [
    "combined_all.hist(alpha=0.8, bins=100, figsize=(12,8))"
   ]
  },
  {
   "cell_type": "markdown",
   "metadata": {},
   "source": [
    "## Scatterplots\n",
    "***"
   ]
  },
  {
   "cell_type": "code",
   "execution_count": null,
   "metadata": {},
   "outputs": [],
   "source": [
    "sns.set(style=\"ticks\", palette=\"deep\")\n",
    "f, axes = plt.subplots(2, 2, sharey=False, figsize=(12, 8))\n",
    "sns.scatterplot(x = \"Blood Pressure\", y = \"Age\", hue = 'Weight Category', data = combined_all, ax=axes[0,1])\n",
    "sns.scatterplot(x = \"Blood Pressure\" , y = \"Weight\"  , hue = 'Weight Category' , data = combined_all, ax=axes[1,1])\n",
    "sns.scatterplot(x= \"Blood Pressure\"  , y= \"Height\", hue = 'Weight Category', data = combined_all, ax=axes[0,0])\n",
    "sns.scatterplot(x= \"Blood Pressure\" , y= \"Age\", hue = 'Weight Category', data = combined_all, ax=axes[1,0])\n",
    "f.suptitle(\"Boxplot of the Sistolic Blood Pressure Readings\")\n",
    "plt.show()"
   ]
  },
  {
   "cell_type": "markdown",
   "metadata": {},
   "source": [
    "## Boxplots\n",
    "***"
   ]
  },
  {
   "cell_type": "code",
   "execution_count": null,
   "metadata": {},
   "outputs": [],
   "source": [
    "sns.set(style=\"ticks\", palette=\"pastel\")\n",
    "f, axes = plt.subplots(2, 2, sharey=False, figsize=(12, 8))\n",
    "\n",
    "sns.boxplot(x= 'Weight Category', y= \"Age\", data = combined_all, palette = \"ch:s=.25,rot=-.25\",  ax=axes[0,1])\n",
    "sns.boxplot(x= 'Weight Category', y= \"Weight\", data = combined_all,  palette = \"ch:s=.25,rot=-.25\",  ax=axes[1,1])\n",
    "sns.boxplot(x= 'Weight Category', y= \"Height\", data = combined_all,  palette = \"ch:s=.25,rot=-.25\", ax=axes[1,0])\n",
    "sns.boxplot(x= 'Weight Category', y= \"Blood Pressure\", data = combined_all, palette = \"husl\" ,ax=axes[0,0])\n",
    "f.suptitle(\"Boxplot of the Sistolic Blood Pressure Readings\")\n",
    "plt.show()"
   ]
  },
  {
   "cell_type": "code",
   "execution_count": null,
   "metadata": {},
   "outputs": [],
   "source": []
  },
  {
   "cell_type": "markdown",
   "metadata": {},
   "source": [
    "## Alternative method for generating categorical data"
   ]
  },
  {
   "cell_type": "markdown",
   "metadata": {},
   "source": [
    "|Variable| |\tHealthy weight| \tUnderweight |\t Obese| Ratio (for generation of data)|\n",
    "|-----|-----|-----|-----|---|---|\n",
    "|<span style='color:green'>**Employment Status**</span>| **Class**||||\n",
    "||Student             |\t2\t    |1|\t                4|0.002|\n",
    "||Employed            |\t1194    |70|              \t721| 0.356|\n",
    "||Unemployed          |\t1064\t|51 |                \t1991|0.557|\n",
    "||Retired             |\t251\t    |13  |            \t212\t| 0.085|\n",
    "\n",
    "**<i>Table 2 - Counts of categorical data<i>**"
   ]
  },
  {
   "cell_type": "code",
   "execution_count": null,
   "metadata": {},
   "outputs": [],
   "source": [
    "import random\n",
    "categories = ['Student', 'Employed', 'Unemployeed','Retired']\n",
    "weights = [0.002, 0.356, 0.557, 0.085]  # Adjust weights based on desired probabilities\n",
    "\n",
    "# Generate a list of random categories with specified weights\n",
    "num_samples = 1000\n",
    "random_employment_list = random.choices(categories, weights=weights, k=num_samples)\n",
    "employment_list = pd.Series(random_employment_list, dtype=\"category\")\n",
    "employment_list.cat.categories\n",
    "employment_list\n",
    "\n",
    "employment_df = pd.DataFrame(random_employment_list)\n",
    "employment_df.index.is_unique\n",
    "employment_df.columns = ['Employment Status']\n",
    "\n",
    "employment_df"
   ]
  },
  {
   "cell_type": "code",
   "execution_count": null,
   "metadata": {},
   "outputs": [],
   "source": [
    "names = ['Student', 'Employed', 'Unemployeed','Retired']\n",
    "values = [0.1, 4.9, 4.0, 1.0]\n",
    "\n",
    "plt.figure(figsize=(15, 3))\n",
    "\n",
    "plt.subplot(131)\n",
    "plt.bar(names, values)\n",
    "plt.subplot(132)\n",
    "plt.scatter(names, values)\n",
    "plt.subplot(133)\n",
    "plt.plot(names, values)\n",
    "plt.suptitle('Count of ')\n",
    "plt.show()"
   ]
  },
  {
   "cell_type": "code",
   "execution_count": null,
   "metadata": {},
   "outputs": [],
   "source": [
    "print(combined_continuous.index.duplicated().any())\n",
    "print(employment_df.index.duplicated().any())"
   ]
  },
  {
   "cell_type": "code",
   "execution_count": null,
   "metadata": {},
   "outputs": [],
   "source": [
    "combined_continuous.reset_index(drop=True, inplace=True)\n",
    "employment_df.reset_index(drop=True, inplace=True)\n"
   ]
  },
  {
   "cell_type": "code",
   "execution_count": null,
   "metadata": {},
   "outputs": [],
   "source": [
    "weightcat_df"
   ]
  },
  {
   "cell_type": "code",
   "execution_count": null,
   "metadata": {},
   "outputs": [],
   "source": [
    "employment_df"
   ]
  },
  {
   "cell_type": "code",
   "execution_count": null,
   "metadata": {},
   "outputs": [],
   "source": [
    "combined_all1 = pd.concat([combined_continuous, weightcat_df], axis=1)\n",
    "combined_all1"
   ]
  },
  {
   "cell_type": "code",
   "execution_count": null,
   "metadata": {},
   "outputs": [],
   "source": [
    "sns.catplot(data=combined_all1, x= \"Blood Pressure\", y = \"Age\", hue = \"Employment Status\", kind=\"boxen\")"
   ]
  },
  {
   "cell_type": "markdown",
   "metadata": {},
   "source": [
    "Using ```obese_tee.mean()``` to test the output v's the inputted <kbd>mean</kbd> shows there is a difference between these two values. The main factors contributing to the discrepancy could include:\n",
    "\n",
    "1. Sample Size: The mean calculated from a sample of 1000 data points may not exactly match the population mean you specified (i.e., obese_tee_mean). The larger the sample size, the closer the sample mean is expected to be to the population mean, but it may still exhibit some variation.\n",
    "\n",
    "2. Randomness: Even when generating data from a normal distribution with a specified mean and standard deviation, there is inherent randomness in the process. Each time you run the code, you may get a slightly different mean due to the randomness of the data points generated.\n",
    "\n",
    "3. Parameter Accuracy: Ensure that the values of obese_tee_mean and obese_tee_sd are set correctly. Any deviation in these parameters will result in a discrepancy between the calculated mean and the specified mean.\n",
    "\n",
    "4. Calculation Error: The calculation of the mean using obese_tee.mean() is generally accurate, but if there is a coding error or if the data in obese_tee is not as expected, it can lead to a different result.\n",
    "\n",
    "## REFERENCES NEEDED!!!!"
   ]
  },
  {
   "cell_type": "code",
   "execution_count": null,
   "metadata": {},
   "outputs": [],
   "source": [
    "obese_tee.std()"
   ]
  },
  {
   "cell_type": "markdown",
   "metadata": {},
   "source": [
    "### t-Test comparing Weight and Sistolic Blood Proessure\n",
    "***"
   ]
  },
  {
   "cell_type": "code",
   "execution_count": null,
   "metadata": {},
   "outputs": [],
   "source": [
    "ss.ttest_ind(hw_bp, obese_bp)"
   ]
  },
  {
   "cell_type": "markdown",
   "metadata": {},
   "source": [
    "## One-way ANOVA comparing Blood Pressure Variables "
   ]
  },
  {
   "cell_type": "code",
   "execution_count": null,
   "metadata": {},
   "outputs": [],
   "source": [
    "f_oneway(uw_bp, hw_bp, obese_bp)"
   ]
  },
  {
   "cell_type": "markdown",
   "metadata": {},
   "source": [
    "The null  hypothesis is there is no relastionship between weight and blood pressure"
   ]
  },
  {
   "cell_type": "markdown",
   "metadata": {},
   "source": [
    "Synthesise/simulate a data set as closely matching their properties as possible."
   ]
  },
  {
   "cell_type": "markdown",
   "metadata": {},
   "source": [
    "Detail your research and implement the simulation in a Jupyter notebook – the data set itself can simply be displayed in an output cell within the notebook."
   ]
  },
  {
   "cell_type": "markdown",
   "metadata": {},
   "source": [
    "### Alternative method for generating data"
   ]
  },
  {
   "cell_type": "code",
   "execution_count": null,
   "metadata": {},
   "outputs": [],
   "source": [
    "n = s.NormalDist(mu=47.9, sigma=8.5)\n",
    "samples = n.samples(100000, seed=42)  \n",
    "print(s.mean(samples))  \n",
    "print(s.stdev(samples)) "
   ]
  },
  {
   "cell_type": "markdown",
   "metadata": {},
   "source": [
    "### References\n",
    "\n",
    "[1] Rashidi AA, Heidari Bakavoli AR, Avan A, Aghasizade M, Ghazizadeh H, Tayefi M, Khayyatzadeh SS, Ebrahimi M, Moohebati M, Safarian M, Nematy M, Sadr-Bazzaz M, Ferns GA, Ghayour Mobarhan M. Dietary Intake and Its Relationship to Different Body Mass Index Categories: A Population-Based Study. J Res Health Sci. 2018 Sep 8;18(4):e00426. PMID: 30728312; PMCID: PMC6941633, https://www.ncbi.nlm.nih.gov/pmc/articles/PMC6941633/ accessed on 06 NOV 2023"
   ]
  },
  {
   "cell_type": "markdown",
   "metadata": {},
   "source": [
    "https://datatofish.com/numpy-array-to-pandas-dataframe/ (visited 08 Nov 2023)"
   ]
  },
  {
   "cell_type": "markdown",
   "metadata": {},
   "source": [
    "https://www.geeksforgeeks.org/how-to-perform-a-one-way-anova-in-python/ (visited 08 Nov 2023)"
   ]
  },
  {
   "cell_type": "markdown",
   "metadata": {},
   "source": [
    "Pandas Website url: https://pandas.pydata.org/docs/user_guide/merging.html (visited 08 Nov 2023)"
   ]
  },
  {
   "cell_type": "markdown",
   "metadata": {},
   "source": [
    "https://www.sciencedirect.com/science/article/pii/S1047279796001275 (visited 08 Nov 2023)"
   ]
  },
  {
   "cell_type": "markdown",
   "metadata": {},
   "source": [
    "https://www.geeksforgeeks.org/how-to-combine-two-dataframe-in-python-pandas/ (visited 12 Nov 2023)"
   ]
  },
  {
   "cell_type": "markdown",
   "metadata": {},
   "source": [
    "https://www.geeksforgeeks.org/add-column-names-to-dataframe-in-pandas/ (visited 12 Nov 2023)"
   ]
  },
  {
   "cell_type": "markdown",
   "metadata": {},
   "source": [
    "https://matplotlib.org/stable/tutorials/pyplot.html (visited 12 Nov 2023)"
   ]
  },
  {
   "cell_type": "markdown",
   "metadata": {},
   "source": [
    "https://seaborn.pydata.org/generated/seaborn.color_palette.html#seaborn.color_palette (visited 13 Nov 2023)"
   ]
  }
 ],
 "metadata": {
  "kernelspec": {
   "display_name": "Python 3",
   "language": "python",
   "name": "python3"
  },
  "language_info": {
   "codemirror_mode": {
    "name": "ipython",
    "version": 3
   },
   "file_extension": ".py",
   "mimetype": "text/x-python",
   "name": "python",
   "nbconvert_exporter": "python",
   "pygments_lexer": "ipython3",
   "version": "3.11.3"
  }
 },
 "nbformat": 4,
 "nbformat_minor": 2
}
