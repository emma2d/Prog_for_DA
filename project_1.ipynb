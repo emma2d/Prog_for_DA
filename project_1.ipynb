{
 "cells": [
  {
   "cell_type": "markdown",
   "metadata": {},
   "source": [
    "## Project 1 - Simulated Data Set Analysis \n",
    "\n",
    "***\n",
    "\n",
    "Author: Emma Dunleavy \n",
    "\n",
    "Student Number: g00425660\n",
    "\n",
    "Module: Programming for Data Analysis Winter 2023/24  \n",
    "\n",
    "Lecturer: Brian McGinley\n",
    "***"
   ]
  },
  {
   "cell_type": "markdown",
   "metadata": {},
   "source": [
    "<span style='color:orange'> Part 1 - Choose a real-world phenomenon that can be measured and for which you could collect at least one-hundred data points across at least four different variables. </span>\n",
    "\n",
    "Using the results derived from the Mashhad stroke and heart atherosclerotic disorders (MASHAD) study (2010-2020) [1] the variable of interest is blood pressure, both systolic and diastolic for people categorised as \"Normal weight\", \"Underweight\", \"Overweight\" and \"Obese\". The other contributing measured variables are \"Age\", \"Weight\", \"Height\" and \"Total energy expenditure\". "
   ]
  },
  {
   "cell_type": "markdown",
   "metadata": {},
   "source": [
    "|Variables| \tNormal weight| \tUnderweight |\tOverweight| \tObese| \tP value a| \tP value b |\tP value c|\n",
    "|-----|-----|-----|-----|-----|-----|-----|-----|\n",
    "||Mean / \tSD| Mean \t/ SD |\tMean\t/  SD |\tMean /\tSD| value a| value b| value c|\n",
    "|Age (yr) |\t47.9 / 8.5|\t47.6\t/ 8.1|\t48.5 /\t8.2|\t48.4\t/ 7.9\t|0.410|\t0.009|\t0.001|\n",
    "|Weight(kg) |\t47.9 /\t6.5|\t48.2 /\t8.6|\t70.8\t/ 11.8|\t81.6 /\t14.8|\t0.001|\t0.001|\t0.001|\n",
    "|Height (meter) |\t1.6\t/0.1\t|1.6\t/0.1\t|1.6\t/0.1\t|1.5 /0.1\t|0.002\t|0.001|\t0.001|\n",
    "|Total energy expenditure |\t2362.0\t/ 341.2\t|2380.6\t / 384.6\t|2357.2 / \t305.2 |  2344.0 /\t269.9|\t0.740\t|0.326\t|0.015|\n",
    "|Systolic blood pressure (mmHg) | \t116.3 /\t19.1 |\t111.3\t/ 20.0\t| 120.3 /\t20.1|\t122.6\t/ 26.2 |\t0.020\t|0.001|\t0.001|\n",
    "|Diastolic blood pressure (mmHg) |\t77.3\t/ 10.4|\t72.5\t/ 13.5|\t80.5\t/16.6\t|80.0\t/ 14.6|\t0.011\t|0.001|\t0.001|\n",
    "\n",
    "Table 1 - Study Results\n"
   ]
  },
  {
   "cell_type": "markdown",
   "metadata": {},
   "source": [
    "Investigate the types of variables involved, their likely distributions, and their\n",
    "relationships with each other."
   ]
  },
  {
   "cell_type": "code",
   "execution_count": null,
   "metadata": {},
   "outputs": [],
   "source": [
    "# Import libraries\n",
    "import requests\n",
    "import pandas as pd\n",
    "from bs4 import BeautifulSoup\n",
    "import json"
   ]
  },
  {
   "cell_type": "markdown",
   "metadata": {},
   "source": [
    "Synthesise/simulate a data set as closely matching their properties as possible."
   ]
  },
  {
   "cell_type": "markdown",
   "metadata": {},
   "source": [
    "Detail your research and implement the simulation in a Jupyter notebook – the data set itself can simply be displayed in an output cell within the notebook."
   ]
  },
  {
   "cell_type": "markdown",
   "metadata": {},
   "source": [
    "### References\n",
    "\n",
    "[1] Rashidi AA, Heidari Bakavoli AR, Avan A, Aghasizade M, Ghazizadeh H, Tayefi M, Khayyatzadeh SS, Ebrahimi M, Moohebati M, Safarian M, Nematy M, Sadr-Bazzaz M, Ferns GA, Ghayour Mobarhan M. Dietary Intake and Its Relationship to Different Body Mass Index Categories: A Population-Based Study. J Res Health Sci. 2018 Sep 8;18(4):e00426. PMID: 30728312; PMCID: PMC6941633, https://www.ncbi.nlm.nih.gov/pmc/articles/PMC6941633/ accessed on 06 NOV 2023"
   ]
  }
 ],
 "metadata": {
  "kernelspec": {
   "display_name": "Python 3",
   "language": "python",
   "name": "python3"
  },
  "language_info": {
   "codemirror_mode": {
    "name": "ipython",
    "version": 3
   },
   "file_extension": ".py",
   "mimetype": "text/x-python",
   "name": "python",
   "nbconvert_exporter": "python",
   "pygments_lexer": "ipython3",
   "version": "3.11.3"
  }
 },
 "nbformat": 4,
 "nbformat_minor": 2
}
