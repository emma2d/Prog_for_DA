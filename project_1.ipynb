{
 "cells": [
  {
   "cell_type": "markdown",
   "metadata": {},
   "source": [
    "## Project 1 - Simulated Data Set Analysis \n",
    "\n",
    "***\n",
    "\n",
    "Author: Emma Dunleavy \n",
    "\n",
    "Student Number: g00425660\n",
    "\n",
    "Module: Programming for Data Analysis Winter 2023/24  \n",
    "\n",
    "Lecturer: Brian McGinley\n",
    "***"
   ]
  },
  {
   "cell_type": "markdown",
   "metadata": {},
   "source": [
    "### Required Libraries\n",
    "***"
   ]
  },
  {
   "cell_type": "markdown",
   "metadata": {},
   "source": [
    "SKLearn or tensorflow"
   ]
  },
  {
   "cell_type": "code",
   "execution_count": 168,
   "metadata": {},
   "outputs": [],
   "source": [
    "import pandas as pd\n",
    "from bs4 import BeautifulSoup\n",
    "import json\n",
    "import numpy as np\n",
    "import seaborn as sns\n",
    "import matplotlib.pyplot as plt\n",
    "import scipy.stats as ss\n",
    "from scipy.stats import f_oneway\n"
   ]
  },
  {
   "cell_type": "markdown",
   "metadata": {},
   "source": [
    "<span style='color:orange'> Part 1 - Choose a real-world phenomenon that can be measured and for which you could collect at least one-hundred data points across at least four different variables. </span>\n",
    "\n",
    "Using the results derived from the Mashhad stroke and heart atherosclerotic disorders (MASHAD) study (2010-2020) [1] the variable of interest is blood pressure, both systolic and diastolic for people categorised as \"Normal weight\", \"Underweight\", \"Overweight\" and \"Obese\". The other contributing measured variables are \"Age\", \"Weight\", \"Height\" and \"Total energy expenditure\". Table 1 below provides a summary of the study's statistical findings. "
   ]
  },
  {
   "cell_type": "markdown",
   "metadata": {},
   "source": [
    "|Variables| \tNormal weight| \tUnderweight |\t Obese| \tP value a| \tP value b |\tP value c|\n",
    "|-----|-----|-----|-----|-----|-----|-----|\n",
    "||Mean / \tSD| Mean \t/ SD |\tMean\t/  SD |\t value a| value b| value c|\n",
    "|Age (yr) |\t47.9 / 8.5|\t47.6\t/ 8.1|\t\t48.4\t/ 7.9\t|0.410|\t0.009|\t0.001|\n",
    "|Weight(kg) |\t47.9 /\t6.5|\t48.2 /\t8.6|\t\t81.6 /\t14.8|\t0.001|\t0.001|\t0.001|\n",
    "|Height (meter) |\t1.6\t/0.1\t|1.6\t/0.1\t\t|1.5 /0.1\t|0.002\t|0.001|\t0.001|\n",
    "|Total energy expenditure |\t2362.0\t/ 341.2\t|2380.6\t / 384.6\t|  2344.0 /\t269.9|\t0.740\t|0.326\t|0.015|\n",
    "|Systolic blood pressure (mmHg) | \t116.3 /\t19.1 |\t111.3\t/ 20.0\t| \t122.6\t/ 26.2 |\t0.020\t|0.001|\t0.001|\n",
    "\n",
    "Table 1 - Statistical findings of continuous data\n",
    "\n",
    "|Variable| |\tNormal weight| \tUnderweight |\t Obese| \n",
    "|-----|-----|-----|-----|---|\n",
    "**Employment Status**| **Class**\n",
    "||Student             |\t2\t    |1|\t                4|\n",
    "||Employed            |\t1194    |70|              \t721|\n",
    "||Unemployed          |\t1064\t|51 |                \t1991|\n",
    "||Retired             |\t251\t    |13  |            \t212\t|\n",
    "\n",
    "Table 2 - Counts of categorical data\n",
    "\n"
   ]
  },
  {
   "cell_type": "markdown",
   "metadata": {},
   "source": [
    "                        | Normal weight \t            Underweight \tObese \n",
    "    Student             |\t2\t                        1\t                4\n",
    "    Employed            |\t1194\t                    70              \t721\n",
    "    Unemployed          |\t1064\t                    51                 \t1991\n",
    "    Retired             |\t251\t                        13              \t212\n"
   ]
  },
  {
   "cell_type": "markdown",
   "metadata": {},
   "source": [
    "<div class=\"alert alert-block alert-info\">\n",
    "<b>Note:</b> This is a sample of the results from the study, follow link below for full study findings. </div>\n",
    "\n",
    "[Dietary Intake and Its Relationship to Different Body Mass Index Categories: A Population-Based Study ](https://www.ncbi.nlm.nih.gov/pmc/articles/PMC6941633/)"
   ]
  },
  {
   "cell_type": "markdown",
   "metadata": {},
   "source": [
    "Investigate the types of variables involved, their likely distributions, and their\n",
    "relationships with each other."
   ]
  },
  {
   "cell_type": "markdown",
   "metadata": {},
   "source": [
    " |Variables|Age (yr) |Weight(kg) | Total energy expenditure   |Systolic blood pressure (mmHg) |Employment Status|\n",
    " |---|:---|---|---|---|---|\n",
    " |**variable type level 1**|numerical|numerical|numerical|numerical|categorical|\n",
    " |**variable type level 2**|continuous - ratio|continuous - ratio|continuous - ratio|continuous - ratio|nominal|"
   ]
  },
  {
   "cell_type": "markdown",
   "metadata": {},
   "source": [
    "The study stated *\"Descriptive statistics including <kbd>mean ± standard deviation (SD)</kbd> &nbsp; were determined for variables with normal distribution\"*, which is the case for the variables per table 1 so it can therefore be stated all variables for discussion in this report are normally distributed. \n"
   ]
  },
  {
   "cell_type": "markdown",
   "metadata": {},
   "source": [
    "## Healthy Weight\n",
    "***"
   ]
  },
  {
   "cell_type": "code",
   "execution_count": 169,
   "metadata": {},
   "outputs": [],
   "source": [
    "# Define the means and standard deviations for the \"healthy weight\" variables\n",
    "hw_age_mean = 47.9\n",
    "hw_age_sd = 8.5\n",
    "  \n",
    "hw_weight_mean = 47.9\n",
    "hw_weight_sd = 6.5\n",
    "\n",
    "hw_height_mean = 1.6\n",
    "hw_height_sd = 0.1\n",
    "\n",
    "hw_tee_mean = 2362.0\n",
    "hw_tee_sd = 341.2\n",
    "\n",
    "hw_bp_mean = 116.3\n",
    "hw_bp_sd = 19.1"
   ]
  },
  {
   "cell_type": "code",
   "execution_count": 170,
   "metadata": {},
   "outputs": [
    {
     "data": {
      "text/plain": [
       "8.389781848686718"
      ]
     },
     "execution_count": 170,
     "metadata": {},
     "output_type": "execute_result"
    }
   ],
   "source": [
    "# Set the random seed for reproducibility\n",
    "np.random.seed(0)\n",
    "\n",
    "# Generate random data for each variable with the specified standard deviations\n",
    "hw_age = np.random.normal(hw_age_mean, hw_age_sd, 1000)\n",
    "hw_weight = np.random.normal(hw_weight_mean, hw_weight_sd, 1000)\n",
    "hw_height = np.random.normal(hw_height_mean, hw_height_sd, 1000)\n",
    "hw_tee = np.random.normal(hw_tee_mean, hw_tee_sd, 1000)\n",
    "hw_bp = np.random.normal(hw_bp_mean, hw_bp_sd, 1000)\n",
    "\n",
    "# Create a dataset by combining the variables\n",
    "hw_dataset = np.column_stack((hw_age, hw_height, hw_weight, hw_tee, hw_bp))\n",
    "\n",
    "hw_age.std()"
   ]
  },
  {
   "cell_type": "code",
   "execution_count": 171,
   "metadata": {},
   "outputs": [
    {
     "data": {
      "text/html": [
       "<div>\n",
       "<style scoped>\n",
       "    .dataframe tbody tr th:only-of-type {\n",
       "        vertical-align: middle;\n",
       "    }\n",
       "\n",
       "    .dataframe tbody tr th {\n",
       "        vertical-align: top;\n",
       "    }\n",
       "\n",
       "    .dataframe thead th {\n",
       "        text-align: right;\n",
       "    }\n",
       "</style>\n",
       "<table border=\"1\" class=\"dataframe\">\n",
       "  <thead>\n",
       "    <tr style=\"text-align: right;\">\n",
       "      <th></th>\n",
       "      <th>hw_age</th>\n",
       "      <th>hw_height</th>\n",
       "      <th>hw_weight</th>\n",
       "      <th>hw_tee</th>\n",
       "      <th>hw_bp</th>\n",
       "    </tr>\n",
       "  </thead>\n",
       "  <tbody>\n",
       "    <tr>\n",
       "      <th>0</th>\n",
       "      <td>62.894445</td>\n",
       "      <td>1.446708</td>\n",
       "      <td>51.513757</td>\n",
       "      <td>2905.624958</td>\n",
       "      <td>128.014969</td>\n",
       "    </tr>\n",
       "    <tr>\n",
       "      <th>1</th>\n",
       "      <td>51.301336</td>\n",
       "      <td>1.428803</td>\n",
       "      <td>53.701080</td>\n",
       "      <td>2556.048083</td>\n",
       "      <td>151.514670</td>\n",
       "    </tr>\n",
       "    <tr>\n",
       "      <th>2</th>\n",
       "      <td>56.219273</td>\n",
       "      <td>1.604614</td>\n",
       "      <td>45.154954</td>\n",
       "      <td>2322.937020</td>\n",
       "      <td>121.477838</td>\n",
       "    </tr>\n",
       "    <tr>\n",
       "      <th>3</th>\n",
       "      <td>66.947592</td>\n",
       "      <td>1.504163</td>\n",
       "      <td>48.580641</td>\n",
       "      <td>2447.856241</td>\n",
       "      <td>138.006150</td>\n",
       "    </tr>\n",
       "    <tr>\n",
       "      <th>4</th>\n",
       "      <td>63.774243</td>\n",
       "      <td>1.591919</td>\n",
       "      <td>49.382347</td>\n",
       "      <td>1948.856056</td>\n",
       "      <td>83.097861</td>\n",
       "    </tr>\n",
       "    <tr>\n",
       "      <th>...</th>\n",
       "      <td>...</td>\n",
       "      <td>...</td>\n",
       "      <td>...</td>\n",
       "      <td>...</td>\n",
       "      <td>...</td>\n",
       "    </tr>\n",
       "    <tr>\n",
       "      <th>995</th>\n",
       "      <td>51.409402</td>\n",
       "      <td>1.807918</td>\n",
       "      <td>48.535380</td>\n",
       "      <td>2190.072770</td>\n",
       "      <td>114.363748</td>\n",
       "    </tr>\n",
       "    <tr>\n",
       "      <th>996</th>\n",
       "      <td>46.213609</td>\n",
       "      <td>1.509253</td>\n",
       "      <td>57.009902</td>\n",
       "      <td>2969.185560</td>\n",
       "      <td>130.561315</td>\n",
       "    </tr>\n",
       "    <tr>\n",
       "      <th>997</th>\n",
       "      <td>48.700635</td>\n",
       "      <td>1.580760</td>\n",
       "      <td>48.929820</td>\n",
       "      <td>2351.568682</td>\n",
       "      <td>134.047373</td>\n",
       "    </tr>\n",
       "    <tr>\n",
       "      <th>998</th>\n",
       "      <td>38.145307</td>\n",
       "      <td>1.478748</td>\n",
       "      <td>40.477641</td>\n",
       "      <td>2900.102498</td>\n",
       "      <td>120.681884</td>\n",
       "    </tr>\n",
       "    <tr>\n",
       "      <th>999</th>\n",
       "      <td>44.856030</td>\n",
       "      <td>1.591940</td>\n",
       "      <td>39.378693</td>\n",
       "      <td>2084.671923</td>\n",
       "      <td>124.215152</td>\n",
       "    </tr>\n",
       "  </tbody>\n",
       "</table>\n",
       "<p>1000 rows × 5 columns</p>\n",
       "</div>"
      ],
      "text/plain": [
       "        hw_age  hw_height  hw_weight       hw_tee       hw_bp\n",
       "0    62.894445   1.446708  51.513757  2905.624958  128.014969\n",
       "1    51.301336   1.428803  53.701080  2556.048083  151.514670\n",
       "2    56.219273   1.604614  45.154954  2322.937020  121.477838\n",
       "3    66.947592   1.504163  48.580641  2447.856241  138.006150\n",
       "4    63.774243   1.591919  49.382347  1948.856056   83.097861\n",
       "..         ...        ...        ...          ...         ...\n",
       "995  51.409402   1.807918  48.535380  2190.072770  114.363748\n",
       "996  46.213609   1.509253  57.009902  2969.185560  130.561315\n",
       "997  48.700635   1.580760  48.929820  2351.568682  134.047373\n",
       "998  38.145307   1.478748  40.477641  2900.102498  120.681884\n",
       "999  44.856030   1.591940  39.378693  2084.671923  124.215152\n",
       "\n",
       "[1000 rows x 5 columns]"
      ]
     },
     "execution_count": 171,
     "metadata": {},
     "output_type": "execute_result"
    }
   ],
   "source": [
    "hw_dataframe = pd.DataFrame(hw_dataset, columns = ['hw_age', 'hw_height', 'hw_weight', 'hw_tee', 'hw_bp'])\n",
    "hw_dataframe"
   ]
  },
  {
   "cell_type": "markdown",
   "metadata": {},
   "source": [
    "## Under Weight\n",
    "***"
   ]
  },
  {
   "cell_type": "code",
   "execution_count": 172,
   "metadata": {},
   "outputs": [],
   "source": [
    "# Define the means and standard deviations for the \"healthy weight\" variables\n",
    "uw_age_mean = 47.6\n",
    "uw_age_sd = 8.1\n",
    "  \n",
    "uw_weight_mean = 48.2\n",
    "uw_weight_sd = 8.6\n",
    "\n",
    "uw_height_mean = 1.6\n",
    "uw_height_sd = 0.1\n",
    "\n",
    "uw_tee_mean = 2380.6\n",
    "uw_tee_sd = 384.6\n",
    "\n",
    "uw_bp_mean = 111.3\n",
    "uw_bp_sd = 20.0"
   ]
  },
  {
   "cell_type": "code",
   "execution_count": 173,
   "metadata": {},
   "outputs": [
    {
     "data": {
      "text/plain": [
       "7.994968585219109"
      ]
     },
     "execution_count": 173,
     "metadata": {},
     "output_type": "execute_result"
    }
   ],
   "source": [
    "# Set the random seed for reproducibility\n",
    "np.random.seed(0)\n",
    "\n",
    "# Generate random data for each variable with the specified standard deviations\n",
    "uw_age = np.random.normal(uw_age_mean, uw_age_sd, 1000)\n",
    "uw_weight = np.random.normal(uw_weight_mean, uw_weight_sd, 1000)\n",
    "uw_height = np.random.normal(uw_height_mean, uw_height_sd, 1000)\n",
    "uw_tee = np.random.normal(uw_tee_mean, uw_tee_sd, 1000)\n",
    "uw_bp = np.random.normal(uw_bp_mean, uw_bp_sd, 1000)\n",
    "\n",
    "# Create a dataset by combining the variables\n",
    "uw_dataset = np.column_stack((uw_age, uw_height, uw_weight, uw_tee, uw_bp))\n",
    "\n",
    "uw_age.std()"
   ]
  },
  {
   "cell_type": "code",
   "execution_count": 174,
   "metadata": {},
   "outputs": [
    {
     "data": {
      "text/html": [
       "<div>\n",
       "<style scoped>\n",
       "    .dataframe tbody tr th:only-of-type {\n",
       "        vertical-align: middle;\n",
       "    }\n",
       "\n",
       "    .dataframe tbody tr th {\n",
       "        vertical-align: top;\n",
       "    }\n",
       "\n",
       "    .dataframe thead th {\n",
       "        text-align: right;\n",
       "    }\n",
       "</style>\n",
       "<table border=\"1\" class=\"dataframe\">\n",
       "  <thead>\n",
       "    <tr style=\"text-align: right;\">\n",
       "      <th></th>\n",
       "      <th>uw_age</th>\n",
       "      <th>uw_height</th>\n",
       "      <th>uw_weight</th>\n",
       "      <th>uw_tee</th>\n",
       "      <th>uw_bp</th>\n",
       "    </tr>\n",
       "  </thead>\n",
       "  <tbody>\n",
       "    <tr>\n",
       "      <th>0</th>\n",
       "      <td>61.888824</td>\n",
       "      <td>1.446708</td>\n",
       "      <td>52.981279</td>\n",
       "      <td>2993.373033</td>\n",
       "      <td>123.566983</td>\n",
       "    </tr>\n",
       "    <tr>\n",
       "      <th>1</th>\n",
       "      <td>50.841273</td>\n",
       "      <td>1.428803</td>\n",
       "      <td>55.875275</td>\n",
       "      <td>2599.330635</td>\n",
       "      <td>148.174000</td>\n",
       "    </tr>\n",
       "    <tr>\n",
       "      <th>2</th>\n",
       "      <td>55.527778</td>\n",
       "      <td>1.604614</td>\n",
       "      <td>44.568093</td>\n",
       "      <td>2336.568282</td>\n",
       "      <td>116.721820</td>\n",
       "    </tr>\n",
       "    <tr>\n",
       "      <th>3</th>\n",
       "      <td>65.751235</td>\n",
       "      <td>1.504163</td>\n",
       "      <td>49.100541</td>\n",
       "      <td>2477.376994</td>\n",
       "      <td>134.028953</td>\n",
       "    </tr>\n",
       "    <tr>\n",
       "      <th>4</th>\n",
       "      <td>62.727220</td>\n",
       "      <td>1.591919</td>\n",
       "      <td>50.161259</td>\n",
       "      <td>1914.904922</td>\n",
       "      <td>76.533363</td>\n",
       "    </tr>\n",
       "    <tr>\n",
       "      <th>...</th>\n",
       "      <td>...</td>\n",
       "      <td>...</td>\n",
       "      <td>...</td>\n",
       "      <td>...</td>\n",
       "      <td>...</td>\n",
       "    </tr>\n",
       "    <tr>\n",
       "      <th>995</th>\n",
       "      <td>50.944254</td>\n",
       "      <td>1.807918</td>\n",
       "      <td>49.040657</td>\n",
       "      <td>2186.803949</td>\n",
       "      <td>109.272511</td>\n",
       "    </tr>\n",
       "    <tr>\n",
       "      <th>996</th>\n",
       "      <td>45.992969</td>\n",
       "      <td>1.509253</td>\n",
       "      <td>60.253101</td>\n",
       "      <td>3065.018424</td>\n",
       "      <td>126.233314</td>\n",
       "    </tr>\n",
       "    <tr>\n",
       "      <th>997</th>\n",
       "      <td>48.362958</td>\n",
       "      <td>1.580760</td>\n",
       "      <td>49.562531</td>\n",
       "      <td>2368.841838</td>\n",
       "      <td>129.883636</td>\n",
       "    </tr>\n",
       "    <tr>\n",
       "      <th>998</th>\n",
       "      <td>38.304351</td>\n",
       "      <td>1.478748</td>\n",
       "      <td>38.379648</td>\n",
       "      <td>2987.148127</td>\n",
       "      <td>115.888360</td>\n",
       "    </tr>\n",
       "    <tr>\n",
       "      <th>999</th>\n",
       "      <td>44.699276</td>\n",
       "      <td>1.591940</td>\n",
       "      <td>36.925655</td>\n",
       "      <td>2067.996312</td>\n",
       "      <td>119.588118</td>\n",
       "    </tr>\n",
       "  </tbody>\n",
       "</table>\n",
       "<p>1000 rows × 5 columns</p>\n",
       "</div>"
      ],
      "text/plain": [
       "        uw_age  uw_height  uw_weight       uw_tee       uw_bp\n",
       "0    61.888824   1.446708  52.981279  2993.373033  123.566983\n",
       "1    50.841273   1.428803  55.875275  2599.330635  148.174000\n",
       "2    55.527778   1.604614  44.568093  2336.568282  116.721820\n",
       "3    65.751235   1.504163  49.100541  2477.376994  134.028953\n",
       "4    62.727220   1.591919  50.161259  1914.904922   76.533363\n",
       "..         ...        ...        ...          ...         ...\n",
       "995  50.944254   1.807918  49.040657  2186.803949  109.272511\n",
       "996  45.992969   1.509253  60.253101  3065.018424  126.233314\n",
       "997  48.362958   1.580760  49.562531  2368.841838  129.883636\n",
       "998  38.304351   1.478748  38.379648  2987.148127  115.888360\n",
       "999  44.699276   1.591940  36.925655  2067.996312  119.588118\n",
       "\n",
       "[1000 rows x 5 columns]"
      ]
     },
     "execution_count": 174,
     "metadata": {},
     "output_type": "execute_result"
    }
   ],
   "source": [
    "uw_dataframe = pd.DataFrame(uw_dataset, columns = ['uw_age', 'uw_height', 'uw_weight', 'uw_tee', 'uw_bp'])\n",
    "uw_dataframe"
   ]
  },
  {
   "cell_type": "markdown",
   "metadata": {},
   "source": [
    "## Obese\n",
    "***"
   ]
  },
  {
   "cell_type": "code",
   "execution_count": 175,
   "metadata": {},
   "outputs": [
    {
     "data": {
      "text/plain": [
       "2338.8873931784537"
      ]
     },
     "execution_count": 175,
     "metadata": {},
     "output_type": "execute_result"
    }
   ],
   "source": [
    "# Define the means and standard deviations for the \"obese\" variables\n",
    "obese_age_mean = 48.4\n",
    "obese_age_sd = 7.9\n",
    "\n",
    "obese_weight_mean = 81.6\n",
    "obese_weight_sd = 14.8\n",
    "\n",
    "obese_height_mean = 1.5\n",
    "obese_height_sd = 0.1\n",
    "\n",
    "obese_tee_mean = 2344.0\n",
    "obese_tee_sd = 269.9\n",
    "\n",
    "obese_bp_mean = 122.6\n",
    "obese_bp_sd = 26.2\n",
    "\n",
    "# Set the random seed for reproducibility\n",
    "np.random.seed(0)\n",
    "\n",
    "# Generate random data for each variable with the specified standard deviations\n",
    "# Assumption data being reverse engineered is normally distributed\n",
    "obese_age = np.random.normal(obese_age_mean, obese_age_sd, 1000)\n",
    "obese_weight = np.random.normal(obese_weight_mean, obese_weight_sd, 1000)\n",
    "obese_height = np.random.normal(obese_height_mean, obese_height_sd, 1000)\n",
    "obese_tee = np.random.normal(obese_tee_mean, obese_tee_sd, 1000)\n",
    "obese_bp = np.random.normal(obese_bp_mean, obese_bp_sd, 1000)\n",
    "\n",
    "# Create a dataset by combining the variables\n",
    "obese_dataset = np.column_stack((obese_age, obese_height, obese_weight, obese_tee, obese_bp))\n",
    "#obese_dataset [:5]\n",
    "obese_tee.mean()"
   ]
  },
  {
   "cell_type": "code",
   "execution_count": 176,
   "metadata": {},
   "outputs": [
    {
     "data": {
      "text/html": [
       "<div>\n",
       "<style scoped>\n",
       "    .dataframe tbody tr th:only-of-type {\n",
       "        vertical-align: middle;\n",
       "    }\n",
       "\n",
       "    .dataframe tbody tr th {\n",
       "        vertical-align: top;\n",
       "    }\n",
       "\n",
       "    .dataframe thead th {\n",
       "        text-align: right;\n",
       "    }\n",
       "</style>\n",
       "<table border=\"1\" class=\"dataframe\">\n",
       "  <thead>\n",
       "    <tr style=\"text-align: right;\">\n",
       "      <th></th>\n",
       "      <th>obese_age</th>\n",
       "      <th>obese_height</th>\n",
       "      <th>obese_weight</th>\n",
       "      <th>obese_tee</th>\n",
       "      <th>obese_bp</th>\n",
       "    </tr>\n",
       "  </thead>\n",
       "  <tbody>\n",
       "    <tr>\n",
       "      <th>0</th>\n",
       "      <td>62.336014</td>\n",
       "      <td>1.346708</td>\n",
       "      <td>89.828248</td>\n",
       "      <td>2774.024549</td>\n",
       "      <td>138.669748</td>\n",
       "    </tr>\n",
       "    <tr>\n",
       "      <th>1</th>\n",
       "      <td>51.561242</td>\n",
       "      <td>1.328803</td>\n",
       "      <td>94.808614</td>\n",
       "      <td>2497.498176</td>\n",
       "      <td>170.904939</td>\n",
       "    </tr>\n",
       "    <tr>\n",
       "      <th>2</th>\n",
       "      <td>56.132030</td>\n",
       "      <td>1.504614</td>\n",
       "      <td>75.349741</td>\n",
       "      <td>2313.099946</td>\n",
       "      <td>129.702584</td>\n",
       "    </tr>\n",
       "    <tr>\n",
       "      <th>3</th>\n",
       "      <td>66.103056</td>\n",
       "      <td>1.404163</td>\n",
       "      <td>83.149768</td>\n",
       "      <td>2411.915004</td>\n",
       "      <td>152.374928</td>\n",
       "    </tr>\n",
       "    <tr>\n",
       "      <th>4</th>\n",
       "      <td>63.153708</td>\n",
       "      <td>1.491919</td>\n",
       "      <td>84.975189</td>\n",
       "      <td>2017.190063</td>\n",
       "      <td>77.055705</td>\n",
       "    </tr>\n",
       "    <tr>\n",
       "      <th>...</th>\n",
       "      <td>...</td>\n",
       "      <td>...</td>\n",
       "      <td>...</td>\n",
       "      <td>...</td>\n",
       "      <td>...</td>\n",
       "    </tr>\n",
       "    <tr>\n",
       "      <th>995</th>\n",
       "      <td>51.661679</td>\n",
       "      <td>1.707918</td>\n",
       "      <td>83.046712</td>\n",
       "      <td>2208.000119</td>\n",
       "      <td>119.943990</td>\n",
       "    </tr>\n",
       "    <tr>\n",
       "      <th>996</th>\n",
       "      <td>46.832649</td>\n",
       "      <td>1.409253</td>\n",
       "      <td>102.342547</td>\n",
       "      <td>2824.302997</td>\n",
       "      <td>142.162642</td>\n",
       "    </tr>\n",
       "    <tr>\n",
       "      <th>997</th>\n",
       "      <td>49.144119</td>\n",
       "      <td>1.480760</td>\n",
       "      <td>83.944821</td>\n",
       "      <td>2335.748497</td>\n",
       "      <td>146.944563</td>\n",
       "    </tr>\n",
       "    <tr>\n",
       "      <th>998</th>\n",
       "      <td>39.333874</td>\n",
       "      <td>1.378748</td>\n",
       "      <td>64.699859</td>\n",
       "      <td>2769.656109</td>\n",
       "      <td>128.610752</td>\n",
       "    </tr>\n",
       "    <tr>\n",
       "      <th>999</th>\n",
       "      <td>45.570899</td>\n",
       "      <td>1.491940</td>\n",
       "      <td>62.197639</td>\n",
       "      <td>2124.624713</td>\n",
       "      <td>133.457434</td>\n",
       "    </tr>\n",
       "  </tbody>\n",
       "</table>\n",
       "<p>1000 rows × 5 columns</p>\n",
       "</div>"
      ],
      "text/plain": [
       "     obese_age  obese_height  obese_weight    obese_tee    obese_bp\n",
       "0    62.336014      1.346708     89.828248  2774.024549  138.669748\n",
       "1    51.561242      1.328803     94.808614  2497.498176  170.904939\n",
       "2    56.132030      1.504614     75.349741  2313.099946  129.702584\n",
       "3    66.103056      1.404163     83.149768  2411.915004  152.374928\n",
       "4    63.153708      1.491919     84.975189  2017.190063   77.055705\n",
       "..         ...           ...           ...          ...         ...\n",
       "995  51.661679      1.707918     83.046712  2208.000119  119.943990\n",
       "996  46.832649      1.409253    102.342547  2824.302997  142.162642\n",
       "997  49.144119      1.480760     83.944821  2335.748497  146.944563\n",
       "998  39.333874      1.378748     64.699859  2769.656109  128.610752\n",
       "999  45.570899      1.491940     62.197639  2124.624713  133.457434\n",
       "\n",
       "[1000 rows x 5 columns]"
      ]
     },
     "execution_count": 176,
     "metadata": {},
     "output_type": "execute_result"
    }
   ],
   "source": [
    "ob_dataframe = pd.DataFrame(obese_dataset, columns = ['obese_age', 'obese_height', 'obese_weight', 'obese_tee', 'obese_bp'])\n",
    "ob_dataframe"
   ]
  },
  {
   "cell_type": "code",
   "execution_count": 177,
   "metadata": {},
   "outputs": [
    {
     "data": {
      "text/plain": [
       "pandas.core.frame.DataFrame"
      ]
     },
     "execution_count": 177,
     "metadata": {},
     "output_type": "execute_result"
    }
   ],
   "source": [
    "hw_age = hw_dataframe['hw_age']\n",
    "uw_age = uw_dataframe['uw_age']\n",
    "obese_age = ob_dataframe['obese_age']\n",
    "age = pd.concat([hw_age, uw_age, obese_age])\n",
    "age_df = pd.DataFrame(age)\n",
    "type (age_df)"
   ]
  },
  {
   "cell_type": "code",
   "execution_count": 178,
   "metadata": {},
   "outputs": [],
   "source": [
    "hw_weight = hw_dataframe['hw_weight']\n",
    "uw_weight = uw_dataframe['uw_weight']\n",
    "obese_weight = ob_dataframe['obese_weight']\n",
    "weight = pd.concat([hw_weight, uw_weight, obese_weight])\n",
    "weight_df = pd.DataFrame(weight)"
   ]
  },
  {
   "cell_type": "code",
   "execution_count": 179,
   "metadata": {},
   "outputs": [],
   "source": [
    "hw_height = hw_dataframe['hw_height']\n",
    "uw_height = uw_dataframe['uw_height']\n",
    "obese_height = ob_dataframe['obese_height']\n",
    "height = pd.concat([hw_height, uw_height, obese_height])\n",
    "height_df = pd.DataFrame(height)"
   ]
  },
  {
   "cell_type": "code",
   "execution_count": 180,
   "metadata": {},
   "outputs": [],
   "source": [
    "hw_tee = hw_dataframe['hw_tee']\n",
    "uw_tee = uw_dataframe['uw_tee']\n",
    "obese_tee = ob_dataframe['obese_tee']\n",
    "tee = pd.concat([hw_tee, uw_tee, obese_tee])\n",
    "tee_df = pd.DataFrame(tee)"
   ]
  },
  {
   "cell_type": "code",
   "execution_count": 181,
   "metadata": {},
   "outputs": [],
   "source": [
    "hw_bp = hw_dataframe['hw_bp']\n",
    "uw_bp = uw_dataframe['uw_bp']\n",
    "obese_bp = ob_dataframe['obese_bp']\n",
    "bp = pd.concat([hw_bp, uw_bp, obese_bp])\n",
    "bp_df = pd.DataFrame(bp)"
   ]
  },
  {
   "cell_type": "code",
   "execution_count": 182,
   "metadata": {},
   "outputs": [
    {
     "data": {
      "text/html": [
       "<div>\n",
       "<style scoped>\n",
       "    .dataframe tbody tr th:only-of-type {\n",
       "        vertical-align: middle;\n",
       "    }\n",
       "\n",
       "    .dataframe tbody tr th {\n",
       "        vertical-align: top;\n",
       "    }\n",
       "\n",
       "    .dataframe thead th {\n",
       "        text-align: right;\n",
       "    }\n",
       "</style>\n",
       "<table border=\"1\" class=\"dataframe\">\n",
       "  <thead>\n",
       "    <tr style=\"text-align: right;\">\n",
       "      <th></th>\n",
       "      <th>Employment Status</th>\n",
       "    </tr>\n",
       "  </thead>\n",
       "  <tbody>\n",
       "    <tr>\n",
       "      <th>0</th>\n",
       "      <td>Employed</td>\n",
       "    </tr>\n",
       "    <tr>\n",
       "      <th>1</th>\n",
       "      <td>Unemployeed</td>\n",
       "    </tr>\n",
       "    <tr>\n",
       "      <th>2</th>\n",
       "      <td>Unemployeed</td>\n",
       "    </tr>\n",
       "    <tr>\n",
       "      <th>3</th>\n",
       "      <td>Unemployeed</td>\n",
       "    </tr>\n",
       "    <tr>\n",
       "      <th>4</th>\n",
       "      <td>Employed</td>\n",
       "    </tr>\n",
       "    <tr>\n",
       "      <th>...</th>\n",
       "      <td>...</td>\n",
       "    </tr>\n",
       "    <tr>\n",
       "      <th>2995</th>\n",
       "      <td>Unemployeed</td>\n",
       "    </tr>\n",
       "    <tr>\n",
       "      <th>2996</th>\n",
       "      <td>Employed</td>\n",
       "    </tr>\n",
       "    <tr>\n",
       "      <th>2997</th>\n",
       "      <td>Unemployeed</td>\n",
       "    </tr>\n",
       "    <tr>\n",
       "      <th>2998</th>\n",
       "      <td>Employed</td>\n",
       "    </tr>\n",
       "    <tr>\n",
       "      <th>2999</th>\n",
       "      <td>Employed</td>\n",
       "    </tr>\n",
       "  </tbody>\n",
       "</table>\n",
       "<p>3000 rows × 1 columns</p>\n",
       "</div>"
      ],
      "text/plain": [
       "     Employment Status\n",
       "0             Employed\n",
       "1          Unemployeed\n",
       "2          Unemployeed\n",
       "3          Unemployeed\n",
       "4             Employed\n",
       "...                ...\n",
       "2995       Unemployeed\n",
       "2996          Employed\n",
       "2997       Unemployeed\n",
       "2998          Employed\n",
       "2999          Employed\n",
       "\n",
       "[3000 rows x 1 columns]"
      ]
     },
     "execution_count": 182,
     "metadata": {},
     "output_type": "execute_result"
    }
   ],
   "source": [
    "import random\n",
    "categories = ['Student', 'Employed', 'Unemployeed','Retired']\n",
    "weights = [0.01, 0.49, 0.4, 0.1]  # Adjust weights based on desired probabilities\n",
    "\n",
    "# Generate a list of random categories with specified weights\n",
    "num_samples = 3000\n",
    "random_employment_list = random.choices(categories, weights=weights, k=num_samples)\n",
    "employment_list = pd.Series(random_employment_list, dtype=\"category\")\n",
    "employment_list.cat.categories\n",
    "employment_list\n",
    "\n",
    "employment_df = pd.DataFrame(random_employment_list)\n",
    "employment_df.index.is_unique\n",
    "employment_df.columns = ['Employment Status']\n",
    "\n",
    "employment_df"
   ]
  },
  {
   "cell_type": "code",
   "execution_count": 183,
   "metadata": {},
   "outputs": [
    {
     "data": {
      "text/html": [
       "<div>\n",
       "<style scoped>\n",
       "    .dataframe tbody tr th:only-of-type {\n",
       "        vertical-align: middle;\n",
       "    }\n",
       "\n",
       "    .dataframe tbody tr th {\n",
       "        vertical-align: top;\n",
       "    }\n",
       "\n",
       "    .dataframe thead th {\n",
       "        text-align: right;\n",
       "    }\n",
       "</style>\n",
       "<table border=\"1\" class=\"dataframe\">\n",
       "  <thead>\n",
       "    <tr style=\"text-align: right;\">\n",
       "      <th></th>\n",
       "      <th>Age</th>\n",
       "      <th>Weight</th>\n",
       "      <th>Height</th>\n",
       "      <th>Total Energy Ex</th>\n",
       "      <th>Blood Pressure</th>\n",
       "    </tr>\n",
       "  </thead>\n",
       "  <tbody>\n",
       "    <tr>\n",
       "      <th>0</th>\n",
       "      <td>62.894445</td>\n",
       "      <td>51.513757</td>\n",
       "      <td>1.446708</td>\n",
       "      <td>2905.624958</td>\n",
       "      <td>128.014969</td>\n",
       "    </tr>\n",
       "    <tr>\n",
       "      <th>1</th>\n",
       "      <td>51.301336</td>\n",
       "      <td>53.701080</td>\n",
       "      <td>1.428803</td>\n",
       "      <td>2556.048083</td>\n",
       "      <td>151.514670</td>\n",
       "    </tr>\n",
       "    <tr>\n",
       "      <th>2</th>\n",
       "      <td>56.219273</td>\n",
       "      <td>45.154954</td>\n",
       "      <td>1.604614</td>\n",
       "      <td>2322.937020</td>\n",
       "      <td>121.477838</td>\n",
       "    </tr>\n",
       "    <tr>\n",
       "      <th>3</th>\n",
       "      <td>66.947592</td>\n",
       "      <td>48.580641</td>\n",
       "      <td>1.504163</td>\n",
       "      <td>2447.856241</td>\n",
       "      <td>138.006150</td>\n",
       "    </tr>\n",
       "    <tr>\n",
       "      <th>4</th>\n",
       "      <td>63.774243</td>\n",
       "      <td>49.382347</td>\n",
       "      <td>1.591919</td>\n",
       "      <td>1948.856056</td>\n",
       "      <td>83.097861</td>\n",
       "    </tr>\n",
       "    <tr>\n",
       "      <th>...</th>\n",
       "      <td>...</td>\n",
       "      <td>...</td>\n",
       "      <td>...</td>\n",
       "      <td>...</td>\n",
       "      <td>...</td>\n",
       "    </tr>\n",
       "    <tr>\n",
       "      <th>995</th>\n",
       "      <td>51.661679</td>\n",
       "      <td>83.046712</td>\n",
       "      <td>1.707918</td>\n",
       "      <td>2208.000119</td>\n",
       "      <td>119.943990</td>\n",
       "    </tr>\n",
       "    <tr>\n",
       "      <th>996</th>\n",
       "      <td>46.832649</td>\n",
       "      <td>102.342547</td>\n",
       "      <td>1.409253</td>\n",
       "      <td>2824.302997</td>\n",
       "      <td>142.162642</td>\n",
       "    </tr>\n",
       "    <tr>\n",
       "      <th>997</th>\n",
       "      <td>49.144119</td>\n",
       "      <td>83.944821</td>\n",
       "      <td>1.480760</td>\n",
       "      <td>2335.748497</td>\n",
       "      <td>146.944563</td>\n",
       "    </tr>\n",
       "    <tr>\n",
       "      <th>998</th>\n",
       "      <td>39.333874</td>\n",
       "      <td>64.699859</td>\n",
       "      <td>1.378748</td>\n",
       "      <td>2769.656109</td>\n",
       "      <td>128.610752</td>\n",
       "    </tr>\n",
       "    <tr>\n",
       "      <th>999</th>\n",
       "      <td>45.570899</td>\n",
       "      <td>62.197639</td>\n",
       "      <td>1.491940</td>\n",
       "      <td>2124.624713</td>\n",
       "      <td>133.457434</td>\n",
       "    </tr>\n",
       "  </tbody>\n",
       "</table>\n",
       "<p>3000 rows × 5 columns</p>\n",
       "</div>"
      ],
      "text/plain": [
       "           Age      Weight    Height  Total Energy Ex  Blood Pressure\n",
       "0    62.894445   51.513757  1.446708      2905.624958      128.014969\n",
       "1    51.301336   53.701080  1.428803      2556.048083      151.514670\n",
       "2    56.219273   45.154954  1.604614      2322.937020      121.477838\n",
       "3    66.947592   48.580641  1.504163      2447.856241      138.006150\n",
       "4    63.774243   49.382347  1.591919      1948.856056       83.097861\n",
       "..         ...         ...       ...              ...             ...\n",
       "995  51.661679   83.046712  1.707918      2208.000119      119.943990\n",
       "996  46.832649  102.342547  1.409253      2824.302997      142.162642\n",
       "997  49.144119   83.944821  1.480760      2335.748497      146.944563\n",
       "998  39.333874   64.699859  1.378748      2769.656109      128.610752\n",
       "999  45.570899   62.197639  1.491940      2124.624713      133.457434\n",
       "\n",
       "[3000 rows x 5 columns]"
      ]
     },
     "execution_count": 183,
     "metadata": {},
     "output_type": "execute_result"
    }
   ],
   "source": [
    "combined_continuous = pd.concat([age_df , weight_df,height_df, tee_df, bp_df], axis=1)\n",
    "combined_continuous.columns = ['Age' , 'Weight', 'Height', 'Total Energy Ex', 'Blood Pressure' ]\n",
    "combined_continuous"
   ]
  },
  {
   "cell_type": "code",
   "execution_count": 185,
   "metadata": {},
   "outputs": [
    {
     "name": "stdout",
     "output_type": "stream",
     "text": [
      "True\n",
      "False\n"
     ]
    }
   ],
   "source": [
    "print(combined_continuous.index.duplicated().any())\n",
    "print(employment_df.index.duplicated().any())"
   ]
  },
  {
   "cell_type": "code",
   "execution_count": 186,
   "metadata": {},
   "outputs": [],
   "source": [
    "combined_continuous.reset_index(drop=True, inplace=True)\n",
    "employment_df.reset_index(drop=True, inplace=True)\n"
   ]
  },
  {
   "cell_type": "code",
   "execution_count": 187,
   "metadata": {},
   "outputs": [
    {
     "data": {
      "text/html": [
       "<div>\n",
       "<style scoped>\n",
       "    .dataframe tbody tr th:only-of-type {\n",
       "        vertical-align: middle;\n",
       "    }\n",
       "\n",
       "    .dataframe tbody tr th {\n",
       "        vertical-align: top;\n",
       "    }\n",
       "\n",
       "    .dataframe thead th {\n",
       "        text-align: right;\n",
       "    }\n",
       "</style>\n",
       "<table border=\"1\" class=\"dataframe\">\n",
       "  <thead>\n",
       "    <tr style=\"text-align: right;\">\n",
       "      <th></th>\n",
       "      <th>Age</th>\n",
       "      <th>Weight</th>\n",
       "      <th>Height</th>\n",
       "      <th>Total Energy Ex</th>\n",
       "      <th>Blood Pressure</th>\n",
       "      <th>Employment Status</th>\n",
       "    </tr>\n",
       "  </thead>\n",
       "  <tbody>\n",
       "    <tr>\n",
       "      <th>0</th>\n",
       "      <td>62.894445</td>\n",
       "      <td>51.513757</td>\n",
       "      <td>1.446708</td>\n",
       "      <td>2905.624958</td>\n",
       "      <td>128.014969</td>\n",
       "      <td>Employed</td>\n",
       "    </tr>\n",
       "    <tr>\n",
       "      <th>1</th>\n",
       "      <td>51.301336</td>\n",
       "      <td>53.701080</td>\n",
       "      <td>1.428803</td>\n",
       "      <td>2556.048083</td>\n",
       "      <td>151.514670</td>\n",
       "      <td>Unemployeed</td>\n",
       "    </tr>\n",
       "    <tr>\n",
       "      <th>2</th>\n",
       "      <td>56.219273</td>\n",
       "      <td>45.154954</td>\n",
       "      <td>1.604614</td>\n",
       "      <td>2322.937020</td>\n",
       "      <td>121.477838</td>\n",
       "      <td>Unemployeed</td>\n",
       "    </tr>\n",
       "    <tr>\n",
       "      <th>3</th>\n",
       "      <td>66.947592</td>\n",
       "      <td>48.580641</td>\n",
       "      <td>1.504163</td>\n",
       "      <td>2447.856241</td>\n",
       "      <td>138.006150</td>\n",
       "      <td>Unemployeed</td>\n",
       "    </tr>\n",
       "    <tr>\n",
       "      <th>4</th>\n",
       "      <td>63.774243</td>\n",
       "      <td>49.382347</td>\n",
       "      <td>1.591919</td>\n",
       "      <td>1948.856056</td>\n",
       "      <td>83.097861</td>\n",
       "      <td>Employed</td>\n",
       "    </tr>\n",
       "    <tr>\n",
       "      <th>...</th>\n",
       "      <td>...</td>\n",
       "      <td>...</td>\n",
       "      <td>...</td>\n",
       "      <td>...</td>\n",
       "      <td>...</td>\n",
       "      <td>...</td>\n",
       "    </tr>\n",
       "    <tr>\n",
       "      <th>2995</th>\n",
       "      <td>51.661679</td>\n",
       "      <td>83.046712</td>\n",
       "      <td>1.707918</td>\n",
       "      <td>2208.000119</td>\n",
       "      <td>119.943990</td>\n",
       "      <td>Unemployeed</td>\n",
       "    </tr>\n",
       "    <tr>\n",
       "      <th>2996</th>\n",
       "      <td>46.832649</td>\n",
       "      <td>102.342547</td>\n",
       "      <td>1.409253</td>\n",
       "      <td>2824.302997</td>\n",
       "      <td>142.162642</td>\n",
       "      <td>Employed</td>\n",
       "    </tr>\n",
       "    <tr>\n",
       "      <th>2997</th>\n",
       "      <td>49.144119</td>\n",
       "      <td>83.944821</td>\n",
       "      <td>1.480760</td>\n",
       "      <td>2335.748497</td>\n",
       "      <td>146.944563</td>\n",
       "      <td>Unemployeed</td>\n",
       "    </tr>\n",
       "    <tr>\n",
       "      <th>2998</th>\n",
       "      <td>39.333874</td>\n",
       "      <td>64.699859</td>\n",
       "      <td>1.378748</td>\n",
       "      <td>2769.656109</td>\n",
       "      <td>128.610752</td>\n",
       "      <td>Employed</td>\n",
       "    </tr>\n",
       "    <tr>\n",
       "      <th>2999</th>\n",
       "      <td>45.570899</td>\n",
       "      <td>62.197639</td>\n",
       "      <td>1.491940</td>\n",
       "      <td>2124.624713</td>\n",
       "      <td>133.457434</td>\n",
       "      <td>Employed</td>\n",
       "    </tr>\n",
       "  </tbody>\n",
       "</table>\n",
       "<p>3000 rows × 6 columns</p>\n",
       "</div>"
      ],
      "text/plain": [
       "            Age      Weight    Height  Total Energy Ex  Blood Pressure   \n",
       "0     62.894445   51.513757  1.446708      2905.624958      128.014969  \\\n",
       "1     51.301336   53.701080  1.428803      2556.048083      151.514670   \n",
       "2     56.219273   45.154954  1.604614      2322.937020      121.477838   \n",
       "3     66.947592   48.580641  1.504163      2447.856241      138.006150   \n",
       "4     63.774243   49.382347  1.591919      1948.856056       83.097861   \n",
       "...         ...         ...       ...              ...             ...   \n",
       "2995  51.661679   83.046712  1.707918      2208.000119      119.943990   \n",
       "2996  46.832649  102.342547  1.409253      2824.302997      142.162642   \n",
       "2997  49.144119   83.944821  1.480760      2335.748497      146.944563   \n",
       "2998  39.333874   64.699859  1.378748      2769.656109      128.610752   \n",
       "2999  45.570899   62.197639  1.491940      2124.624713      133.457434   \n",
       "\n",
       "     Employment Status  \n",
       "0             Employed  \n",
       "1          Unemployeed  \n",
       "2          Unemployeed  \n",
       "3          Unemployeed  \n",
       "4             Employed  \n",
       "...                ...  \n",
       "2995       Unemployeed  \n",
       "2996          Employed  \n",
       "2997       Unemployeed  \n",
       "2998          Employed  \n",
       "2999          Employed  \n",
       "\n",
       "[3000 rows x 6 columns]"
      ]
     },
     "execution_count": 187,
     "metadata": {},
     "output_type": "execute_result"
    }
   ],
   "source": [
    "combined_all = pd.concat([combined_continuous, employment_df], axis=1)\n",
    "combined_all\n"
   ]
  },
  {
   "cell_type": "code",
   "execution_count": null,
   "metadata": {},
   "outputs": [],
   "source": [
    "\n"
   ]
  },
  {
   "cell_type": "markdown",
   "metadata": {},
   "source": [
    "Using ```obese_tee.mean()``` to test the output v's the inputted <kbd>mean</kbd> shows there is a difference between these two values. The main factors contributing to the discrepancy could include:\n",
    "\n",
    "1. Sample Size: The mean calculated from a sample of 1000 data points may not exactly match the population mean you specified (i.e., obese_tee_mean). The larger the sample size, the closer the sample mean is expected to be to the population mean, but it may still exhibit some variation.\n",
    "\n",
    "2. Randomness: Even when generating data from a normal distribution with a specified mean and standard deviation, there is inherent randomness in the process. Each time you run the code, you may get a slightly different mean due to the randomness of the data points generated.\n",
    "\n",
    "3. Parameter Accuracy: Ensure that the values of obese_tee_mean and obese_tee_sd are set correctly. Any deviation in these parameters will result in a discrepancy between the calculated mean and the specified mean.\n",
    "\n",
    "4. Calculation Error: The calculation of the mean using obese_tee.mean() is generally accurate, but if there is a coding error or if the data in obese_tee is not as expected, it can lead to a different result.\n",
    "\n",
    "## REFERENCES NEEDED!!!!"
   ]
  },
  {
   "cell_type": "code",
   "execution_count": null,
   "metadata": {},
   "outputs": [
    {
     "data": {
      "text/plain": [
       "274.3051416300157"
      ]
     },
     "execution_count": 61,
     "metadata": {},
     "output_type": "execute_result"
    }
   ],
   "source": [
    "obese_tee.std()"
   ]
  },
  {
   "cell_type": "code",
   "execution_count": null,
   "metadata": {},
   "outputs": [
    {
     "data": {
      "text/plain": [
       "array([[<Axes: title={'center': 'uw_age'}>,\n",
       "        <Axes: title={'center': 'uw_height'}>],\n",
       "       [<Axes: title={'center': 'uw_weight'}>,\n",
       "        <Axes: title={'center': 'uw_tee'}>],\n",
       "       [<Axes: title={'center': 'uw_bp'}>, <Axes: >]], dtype=object)"
      ]
     },
     "execution_count": 62,
     "metadata": {},
     "output_type": "execute_result"
    },
    {
     "data": {
      "image/png": "[encoded data removed]",
      "text/plain": [
       "<Figure size 1200x800 with 6 Axes>"
      ]
     },
     "metadata": {},
     "output_type": "display_data"
    }
   ],
   "source": [
    "uw_dataframe.hist(alpha=0.8, bins=20, figsize=(12,8))"
   ]
  },
  {
   "cell_type": "code",
   "execution_count": null,
   "metadata": {},
   "outputs": [
    {
     "data": {
      "text/plain": [
       "array([[<Axes: title={'center': 'hw_age'}>,\n",
       "        <Axes: title={'center': 'hw_height'}>],\n",
       "       [<Axes: title={'center': 'hw_weight'}>,\n",
       "        <Axes: title={'center': 'hw_tee'}>],\n",
       "       [<Axes: title={'center': 'hw_bp'}>, <Axes: >]], dtype=object)"
      ]
     },
     "execution_count": 63,
     "metadata": {},
     "output_type": "execute_result"
    },
    {
     "data": {
      "image/png": "[encoded data removed]",
      "text/plain": [
       "<Figure size 1200x800 with 6 Axes>"
      ]
     },
     "metadata": {},
     "output_type": "display_data"
    }
   ],
   "source": [
    "hw_dataframe.hist(alpha=0.8, bins=30, figsize=(12,8))"
   ]
  },
  {
   "cell_type": "code",
   "execution_count": null,
   "metadata": {},
   "outputs": [
    {
     "data": {
      "text/plain": [
       "array([[<Axes: title={'center': 'obese_age'}>,\n",
       "        <Axes: title={'center': 'obese_height'}>],\n",
       "       [<Axes: title={'center': 'obese_weight'}>,\n",
       "        <Axes: title={'center': 'obese_tee'}>],\n",
       "       [<Axes: title={'center': 'obese_bp'}>, <Axes: >]], dtype=object)"
      ]
     },
     "execution_count": 64,
     "metadata": {},
     "output_type": "execute_result"
    },
    {
     "data": {
      "image/png": "[encoded data removed]",
      "text/plain": [
       "<Figure size 1200x800 with 6 Axes>"
      ]
     },
     "metadata": {},
     "output_type": "display_data"
    }
   ],
   "source": [
    "ob_dataframe.hist(alpha=0.8, bins=30, figsize=(12,8))"
   ]
  },
  {
   "cell_type": "code",
   "execution_count": null,
   "metadata": {},
   "outputs": [
    {
     "data": {
      "image/png": "[encoded data removed]",
      "text/plain": [
       "<Figure size 1200x800 with 4 Axes>"
      ]
     },
     "metadata": {},
     "output_type": "display_data"
    }
   ],
   "source": [
    "sns.set(style=\"ticks\", palette=\"pastel\")\n",
    "f, axes = plt.subplots(2, 2, sharey=False, figsize=(12, 8))\n",
    "\n",
    "sns.boxplot(x= \"hw_weight\", y= \"hw_bp\", data = combined_df, ax=axes[0,1])\n",
    "sns.boxplot(x= \"uw_weight\", y= \"uw_bp\", data = combined_df, ax=axes[1,1])\n",
    "sns.boxplot(x= \"obese_weight\", y= \"obese_bp\", data = combined_df, ax=axes[0,0])\n",
    "f.suptitle(\"Boxplot of the Sistolic Blood Pressure Readings\")\n",
    "plt.show()"
   ]
  },
  {
   "cell_type": "markdown",
   "metadata": {},
   "source": [
    "### t-Test comparing Weight and Sistolic Blood Proessure\n",
    "***"
   ]
  },
  {
   "cell_type": "code",
   "execution_count": null,
   "metadata": {},
   "outputs": [
    {
     "data": {
      "text/plain": [
       "Ttest_indResult(statistic=-6.350050061892773, pvalue=2.6571219476410925e-10)"
      ]
     },
     "execution_count": 66,
     "metadata": {},
     "output_type": "execute_result"
    }
   ],
   "source": [
    "ss.ttest_ind(hw_bp, obese_bp)"
   ]
  },
  {
   "cell_type": "markdown",
   "metadata": {},
   "source": [
    "## One-way ANOVA comparing Blood Pressure Variables "
   ]
  },
  {
   "cell_type": "code",
   "execution_count": null,
   "metadata": {},
   "outputs": [
    {
     "data": {
      "text/plain": [
       "F_onewayResult(statistic=68.67152258538431, pvalue=6.910564110361882e-30)"
      ]
     },
     "execution_count": 67,
     "metadata": {},
     "output_type": "execute_result"
    }
   ],
   "source": [
    "f_oneway(uw_bp, hw_bp, obese_bp)"
   ]
  },
  {
   "cell_type": "markdown",
   "metadata": {},
   "source": [
    "The null  hypothesis is there is no relastionship between weight and blood pressure"
   ]
  },
  {
   "cell_type": "code",
   "execution_count": null,
   "metadata": {},
   "outputs": [],
   "source": []
  },
  {
   "cell_type": "markdown",
   "metadata": {},
   "source": [
    "Synthesise/simulate a data set as closely matching their properties as possible."
   ]
  },
  {
   "cell_type": "markdown",
   "metadata": {},
   "source": [
    "Detail your research and implement the simulation in a Jupyter notebook – the data set itself can simply be displayed in an output cell within the notebook."
   ]
  },
  {
   "cell_type": "markdown",
   "metadata": {},
   "source": [
    "### References\n",
    "\n",
    "[1] Rashidi AA, Heidari Bakavoli AR, Avan A, Aghasizade M, Ghazizadeh H, Tayefi M, Khayyatzadeh SS, Ebrahimi M, Moohebati M, Safarian M, Nematy M, Sadr-Bazzaz M, Ferns GA, Ghayour Mobarhan M. Dietary Intake and Its Relationship to Different Body Mass Index Categories: A Population-Based Study. J Res Health Sci. 2018 Sep 8;18(4):e00426. PMID: 30728312; PMCID: PMC6941633, https://www.ncbi.nlm.nih.gov/pmc/articles/PMC6941633/ accessed on 06 NOV 2023"
   ]
  },
  {
   "cell_type": "markdown",
   "metadata": {},
   "source": [
    "https://datatofish.com/numpy-array-to-pandas-dataframe/ (visited 08 Nov 2023)"
   ]
  },
  {
   "cell_type": "markdown",
   "metadata": {},
   "source": [
    "https://www.geeksforgeeks.org/how-to-perform-a-one-way-anova-in-python/ (visited 08 Nov 2023)"
   ]
  },
  {
   "cell_type": "markdown",
   "metadata": {},
   "source": [
    "Pandas Website url: https://pandas.pydata.org/docs/user_guide/merging.html (visited 08 Nov 2023)"
   ]
  },
  {
   "cell_type": "markdown",
   "metadata": {},
   "source": [
    "https://www.sciencedirect.com/science/article/pii/S1047279796001275 (visited 08 Nov 2023)"
   ]
  },
  {
   "cell_type": "markdown",
   "metadata": {},
   "source": [
    "https://www.geeksforgeeks.org/how-to-combine-two-dataframe-in-python-pandas/ (visited 12 Nov 2023)"
   ]
  },
  {
   "cell_type": "markdown",
   "metadata": {},
   "source": [
    "https://www.geeksforgeeks.org/add-column-names-to-dataframe-in-pandas/ (visited 12 Nov 2023)"
   ]
  },
  {
   "cell_type": "code",
   "execution_count": null,
   "metadata": {},
   "outputs": [],
   "source": []
  }
 ],
 "metadata": {
  "kernelspec": {
   "display_name": "Python 3",
   "language": "python",
   "name": "python3"
  },
  "language_info": {
   "codemirror_mode": {
    "name": "ipython",
    "version": 3
   },
   "file_extension": ".py",
   "mimetype": "text/x-python",
   "name": "python",
   "nbconvert_exporter": "python",
   "pygments_lexer": "ipython3",
   "version": "3.10.9"
  }
 },
 "nbformat": 4,
 "nbformat_minor": 2
}
