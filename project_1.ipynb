{
 "cells": [
  {
   "cell_type": "markdown",
   "metadata": {},
   "source": [
    "## Project 1 - Simulated Data Set Analysis \n",
    "\n",
    "***\n",
    "\n",
    "Author: Emma Dunleavy \n",
    "\n",
    "Student Number: g00425660\n",
    "\n",
    "Module: Programming for Data Analysis Winter 2023/24  \n",
    "\n",
    "Lecturer: Brian McGinley\n",
    "***"
   ]
  },
  {
   "cell_type": "markdown",
   "metadata": {},
   "source": [
    "### Required Libraries\n",
    "***"
   ]
  },
  {
   "cell_type": "markdown",
   "metadata": {},
   "source": [
    "SKLearn or tensorflow"
   ]
  },
  {
   "cell_type": "code",
   "execution_count": 20,
   "metadata": {},
   "outputs": [],
   "source": [
    "import pandas as pd\n",
    "from bs4 import BeautifulSoup\n",
    "import json\n",
    "import numpy as np\n",
    "import scipy.stats as ss"
   ]
  },
  {
   "cell_type": "markdown",
   "metadata": {},
   "source": [
    "<span style='color:orange'> Part 1 - Choose a real-world phenomenon that can be measured and for which you could collect at least one-hundred data points across at least four different variables. </span>\n",
    "\n",
    "Using the results derived from the Mashhad stroke and heart atherosclerotic disorders (MASHAD) study (2010-2020) [1] the variable of interest is blood pressure, both systolic and diastolic for people categorised as \"Normal weight\", \"Underweight\", \"Overweight\" and \"Obese\". The other contributing measured variables are \"Age\", \"Weight\", \"Height\" and \"Total energy expenditure\". Table 1 below provides a summary of the study's statistical findings. "
   ]
  },
  {
   "cell_type": "markdown",
   "metadata": {},
   "source": [
    "|Variables| \tNormal weight| \tUnderweight |\tOverweight| \tObese| \tP value a| \tP value b |\tP value c|\n",
    "|-----|-----|-----|-----|-----|-----|-----|-----|\n",
    "||Mean / \tSD| Mean \t/ SD |\tMean\t/  SD |\tMean /\tSD| value a| value b| value c|\n",
    "|Age (yr) |\t47.9 / 8.5|\t47.6\t/ 8.1|\t48.5 /\t8.2|\t48.4\t/ 7.9\t|0.410|\t0.009|\t0.001|\n",
    "|Weight(kg) |\t47.9 /\t6.5|\t48.2 /\t8.6|\t70.8\t/ 11.8|\t81.6 /\t14.8|\t0.001|\t0.001|\t0.001|\n",
    "|Height (meter) |\t1.6\t/0.1\t|1.6\t/0.1\t|1.6\t/0.1\t|1.5 /0.1\t|0.002\t|0.001|\t0.001|\n",
    "|Total energy expenditure |\t2362.0\t/ 341.2\t|2380.6\t / 384.6\t|2357.2 / \t305.2 |  2344.0 /\t269.9|\t0.740\t|0.326\t|0.015|\n",
    "|Systolic blood pressure (mmHg) | \t116.3 /\t19.1 |\t111.3\t/ 20.0\t| 120.3 /\t20.1|\t122.6\t/ 26.2 |\t0.020\t|0.001|\t0.001|\n",
    "\n",
    "Table 1 - Statistical findings\n"
   ]
  },
  {
   "cell_type": "markdown",
   "metadata": {},
   "source": [
    "Investigate the types of variables involved, their likely distributions, and their\n",
    "relationships with each other."
   ]
  },
  {
   "cell_type": "markdown",
   "metadata": {},
   "source": [
    " |Variables|Age (yr) |Weight(kg) |Height (meter) | Total energy expenditure   |Systolic blood pressure (mmHg) |\n",
    " |---|:---|---|---|---|---|\n",
    " |**variable type level 1**|numerical|numerical|numerical|numerical|numerical|\n",
    " |**variable type level 2**|continuous - ratio|continuous - ratio|continuous - ratio|continuous - ratio|continuous - ratio|"
   ]
  },
  {
   "cell_type": "markdown",
   "metadata": {},
   "source": [
    "The study stated *\"Descriptive statistics including <kbd>mean ± standard deviation (SD)</kbd> &nbsp; were determined for variables with normal distribution\"*, which is the case for the variables per table 1 so it can therefore be stated all variables for discussion in this report are normally distributed. \n"
   ]
  },
  {
   "cell_type": "code",
   "execution_count": 21,
   "metadata": {},
   "outputs": [],
   "source": [
    "# Define the means and standard deviations for the \"healthy weight\" variables\n",
    "hw_age_mean = 47.9\n",
    "hw_age_sd = 8.5\n",
    "  \n",
    "hw_weight_mean = 47.9\n",
    "hw_weight_sd = 6.5\n",
    "\n",
    "hw_height_mean = 1.6\n",
    "hw_height_sd = 0.1\n",
    "\n",
    "hw_tee_mean = 2362.0\n",
    "hw_tee_sd = 341.2\n",
    "\n",
    "hw_bp_mean = 116.3\n",
    "hw_bp_sd = 19.1"
   ]
  },
  {
   "cell_type": "code",
   "execution_count": 22,
   "metadata": {},
   "outputs": [
    {
     "data": {
      "text/plain": [
       "8.566999080090927"
      ]
     },
     "execution_count": 22,
     "metadata": {},
     "output_type": "execute_result"
    }
   ],
   "source": [
    "# Set the random seed for reproducibility\n",
    "np.random.seed(0)\n",
    "\n",
    "# Generate random data for each variable with the specified standard deviations\n",
    "hw_age = np.random.normal(hw_age_mean, hw_age_sd, 100)\n",
    "hw_weight = np.random.normal(hw_weight_mean, hw_weight_sd, 100)\n",
    "hw_height = np.random.normal(hw_height_mean, hw_height_sd, 100)\n",
    "hw_tee = np.random.normal(hw_tee_mean, hw_tee_sd, 100)\n",
    "hw_bp = np.random.normal(hw_bp_mean, hw_bp_sd, 100)\n",
    "\n",
    "# Create a dataset by combining the variables\n",
    "hw_dataset = np.column_stack((hw_age, hw_height, hw_weight, hw_tee, hw_bp))\n",
    "\n",
    "hw_age.std()"
   ]
  },
  {
   "cell_type": "code",
   "execution_count": 23,
   "metadata": {},
   "outputs": [
    {
     "data": {
      "text/plain": [
       "2338.8873931784537"
      ]
     },
     "execution_count": 23,
     "metadata": {},
     "output_type": "execute_result"
    }
   ],
   "source": [
    "# Define the means and standard deviations for the \"obese\" variables\n",
    "obese_age_mean = 48.4\n",
    "obese_age_sd = 7.9\n",
    "\n",
    "obese_weight_mean = 81.6\n",
    "obese_weight_sd = 14.8\n",
    "\n",
    "obese_height_mean = 1.5\n",
    "obese_height_sd = 0.1\n",
    "\n",
    "obese_tee_mean = 2344.0\n",
    "obese_tee_sd = 269.9\n",
    "\n",
    "obese_bp_mean = 122.6\n",
    "obese_bp_sd = 26.2\n",
    "\n",
    "# Set the random seed for reproducibility\n",
    "np.random.seed(0)\n",
    "\n",
    "# Generate random data for each variable with the specified standard deviations\n",
    "# Assumption data being reverse engineered is normally distributed\n",
    "obese_age = np.random.normal(obese_age_mean, obese_age_sd, 1000)\n",
    "obese_weight = np.random.normal(obese_weight_mean, obese_weight_sd, 1000)\n",
    "obese_height = np.random.normal(obese_height_mean, obese_height_sd, 1000)\n",
    "obese_tee = np.random.normal(obese_tee_mean, obese_tee_sd, 1000)\n",
    "obese_bp = np.random.normal(obese_bp_mean, obese_bp_sd, 1000)\n",
    "\n",
    "# Create a dataset by combining the variables\n",
    "obese_dataset = np.column_stack((obese_age, obese_height, obese_weight, obese_tee, obese_bp))\n",
    "#obese_dataset [:5]\n",
    "obese_tee.mean()"
   ]
  },
  {
   "cell_type": "markdown",
   "metadata": {},
   "source": [
    "Using ```obese_tee.mean()``` to test the output v's the inputted <kbd>mean</kbd> shows there is a difference between these two values. The main factors contributing to the discrepancy could include:\n",
    "\n",
    "1. Sample Size: The mean calculated from a sample of 1000 data points may not exactly match the population mean you specified (i.e., obese_tee_mean). The larger the sample size, the closer the sample mean is expected to be to the population mean, but it may still exhibit some variation.\n",
    "\n",
    "2. Randomness: Even when generating data from a normal distribution with a specified mean and standard deviation, there is inherent randomness in the process. Each time you run the code, you may get a slightly different mean due to the randomness of the data points generated.\n",
    "\n",
    "3. Parameter Accuracy: Ensure that the values of obese_tee_mean and obese_tee_sd are set correctly. Any deviation in these parameters will result in a discrepancy between the calculated mean and the specified mean.\n",
    "\n",
    "4. Calculation Error: The calculation of the mean using obese_tee.mean() is generally accurate, but if there is a coding error or if the data in obese_tee is not as expected, it can lead to a different result.\n",
    "\n",
    "## REFERENCES NEEDED!!!!"
   ]
  },
  {
   "cell_type": "code",
   "execution_count": 24,
   "metadata": {},
   "outputs": [
    {
     "data": {
      "text/plain": [
       "274.1679547539032"
      ]
     },
     "execution_count": 24,
     "metadata": {},
     "output_type": "execute_result"
    }
   ],
   "source": [
    "obese_tee.std()"
   ]
  },
  {
   "cell_type": "code",
   "execution_count": 31,
   "metadata": {},
   "outputs": [
    {
     "data": {
      "text/html": [
       "<div>\n",
       "<style scoped>\n",
       "    .dataframe tbody tr th:only-of-type {\n",
       "        vertical-align: middle;\n",
       "    }\n",
       "\n",
       "    .dataframe tbody tr th {\n",
       "        vertical-align: top;\n",
       "    }\n",
       "\n",
       "    .dataframe thead th {\n",
       "        text-align: right;\n",
       "    }\n",
       "</style>\n",
       "<table border=\"1\" class=\"dataframe\">\n",
       "  <thead>\n",
       "    <tr style=\"text-align: right;\">\n",
       "      <th></th>\n",
       "      <th>hw_age</th>\n",
       "      <th>hw_height</th>\n",
       "      <th>hw_weight</th>\n",
       "      <th>hw_total_energy_expend</th>\n",
       "      <th>hw_bp</th>\n",
       "    </tr>\n",
       "  </thead>\n",
       "  <tbody>\n",
       "    <tr>\n",
       "      <th>0</th>\n",
       "      <td>62.894445</td>\n",
       "      <td>1.563082</td>\n",
       "      <td>60.140480</td>\n",
       "      <td>1916.213038</td>\n",
       "      <td>104.865710</td>\n",
       "    </tr>\n",
       "    <tr>\n",
       "      <th>1</th>\n",
       "      <td>51.301336</td>\n",
       "      <td>1.576062</td>\n",
       "      <td>39.139566</td>\n",
       "      <td>2927.754188</td>\n",
       "      <td>94.986368</td>\n",
       "    </tr>\n",
       "    <tr>\n",
       "      <th>2</th>\n",
       "      <td>56.219273</td>\n",
       "      <td>1.709966</td>\n",
       "      <td>39.641848</td>\n",
       "      <td>2321.682428</td>\n",
       "      <td>130.943267</td>\n",
       "    </tr>\n",
       "    <tr>\n",
       "      <th>3</th>\n",
       "      <td>66.947592</td>\n",
       "      <td>1.665526</td>\n",
       "      <td>54.201079</td>\n",
       "      <td>2129.923197</td>\n",
       "      <td>123.105193</td>\n",
       "    </tr>\n",
       "    <tr>\n",
       "      <th>4</th>\n",
       "      <td>63.774243</td>\n",
       "      <td>1.664013</td>\n",
       "      <td>40.274698</td>\n",
       "      <td>2589.369908</td>\n",
       "      <td>82.520916</td>\n",
       "    </tr>\n",
       "    <tr>\n",
       "      <th>...</th>\n",
       "      <td>...</td>\n",
       "      <td>...</td>\n",
       "      <td>...</td>\n",
       "      <td>...</td>\n",
       "      <td>...</td>\n",
       "    </tr>\n",
       "    <tr>\n",
       "      <th>95</th>\n",
       "      <td>53.905872</td>\n",
       "      <td>1.713689</td>\n",
       "      <td>46.784949</td>\n",
       "      <td>2102.178857</td>\n",
       "      <td>114.888039</td>\n",
       "    </tr>\n",
       "    <tr>\n",
       "      <th>96</th>\n",
       "      <td>47.989250</td>\n",
       "      <td>1.609772</td>\n",
       "      <td>52.916639</td>\n",
       "      <td>2654.723643</td>\n",
       "      <td>103.721638</td>\n",
       "    </tr>\n",
       "    <tr>\n",
       "      <th>97</th>\n",
       "      <td>63.079899</td>\n",
       "      <td>1.658295</td>\n",
       "      <td>53.252777</td>\n",
       "      <td>2751.343957</td>\n",
       "      <td>106.478131</td>\n",
       "    </tr>\n",
       "    <tr>\n",
       "      <th>98</th>\n",
       "      <td>48.978753</td>\n",
       "      <td>1.560055</td>\n",
       "      <td>61.961034</td>\n",
       "      <td>2862.396658</td>\n",
       "      <td>96.855400</td>\n",
       "    </tr>\n",
       "    <tr>\n",
       "      <th>99</th>\n",
       "      <td>51.316910</td>\n",
       "      <td>1.637006</td>\n",
       "      <td>56.587432</td>\n",
       "      <td>2652.890722</td>\n",
       "      <td>114.812974</td>\n",
       "    </tr>\n",
       "  </tbody>\n",
       "</table>\n",
       "<p>100 rows × 5 columns</p>\n",
       "</div>"
      ],
      "text/plain": [
       "       hw_age  hw_height  hw_weight  hw_total_energy_expend       hw_bp\n",
       "0   62.894445   1.563082  60.140480             1916.213038  104.865710\n",
       "1   51.301336   1.576062  39.139566             2927.754188   94.986368\n",
       "2   56.219273   1.709966  39.641848             2321.682428  130.943267\n",
       "3   66.947592   1.665526  54.201079             2129.923197  123.105193\n",
       "4   63.774243   1.664013  40.274698             2589.369908   82.520916\n",
       "..        ...        ...        ...                     ...         ...\n",
       "95  53.905872   1.713689  46.784949             2102.178857  114.888039\n",
       "96  47.989250   1.609772  52.916639             2654.723643  103.721638\n",
       "97  63.079899   1.658295  53.252777             2751.343957  106.478131\n",
       "98  48.978753   1.560055  61.961034             2862.396658   96.855400\n",
       "99  51.316910   1.637006  56.587432             2652.890722  114.812974\n",
       "\n",
       "[100 rows x 5 columns]"
      ]
     },
     "execution_count": 31,
     "metadata": {},
     "output_type": "execute_result"
    }
   ],
   "source": [
    "hw_dataframe = pd.DataFrame(hw_dataset, columns = ['hw_age', 'hw_height', 'hw_weight', 'hw_total_energy_expend', 'hw_bp'])\n",
    "hw_dataframe"
   ]
  },
  {
   "cell_type": "code",
   "execution_count": 30,
   "metadata": {},
   "outputs": [
    {
     "data": {
      "text/plain": [
       "array([[<Axes: title={'center': 'hw_age'}>,\n",
       "        <Axes: title={'center': 'hw_height'}>],\n",
       "       [<Axes: title={'center': 'hw_weight'}>,\n",
       "        <Axes: title={'center': 'hw_tee'}>],\n",
       "       [<Axes: title={'center': 'hw_bp'}>, <Axes: >]], dtype=object)"
      ]
     },
     "execution_count": 30,
     "metadata": {},
     "output_type": "execute_result"
    },
    {
     "data": {
      "image/png": "[encoded data removed]",
      "text/plain": [
       "<Figure size 1200x800 with 6 Axes>"
      ]
     },
     "metadata": {},
     "output_type": "display_data"
    }
   ],
   "source": [
    "hw_dataframe.hist(alpha=0.8, bins=20, figsize=(12,8))"
   ]
  },
  {
   "cell_type": "code",
   "execution_count": 28,
   "metadata": {},
   "outputs": [
    {
     "data": {
      "text/html": [
       "<div>\n",
       "<style scoped>\n",
       "    .dataframe tbody tr th:only-of-type {\n",
       "        vertical-align: middle;\n",
       "    }\n",
       "\n",
       "    .dataframe tbody tr th {\n",
       "        vertical-align: top;\n",
       "    }\n",
       "\n",
       "    .dataframe thead th {\n",
       "        text-align: right;\n",
       "    }\n",
       "</style>\n",
       "<table border=\"1\" class=\"dataframe\">\n",
       "  <thead>\n",
       "    <tr style=\"text-align: right;\">\n",
       "      <th></th>\n",
       "      <th>obese_age</th>\n",
       "      <th>obese_height</th>\n",
       "      <th>obese_weight</th>\n",
       "      <th>obese_tee</th>\n",
       "      <th>obese_bp</th>\n",
       "    </tr>\n",
       "  </thead>\n",
       "  <tbody>\n",
       "    <tr>\n",
       "      <th>0</th>\n",
       "      <td>62.336014</td>\n",
       "      <td>1.346708</td>\n",
       "      <td>89.828248</td>\n",
       "      <td>2774.024549</td>\n",
       "      <td>138.669748</td>\n",
       "    </tr>\n",
       "    <tr>\n",
       "      <th>1</th>\n",
       "      <td>51.561242</td>\n",
       "      <td>1.328803</td>\n",
       "      <td>94.808614</td>\n",
       "      <td>2497.498176</td>\n",
       "      <td>170.904939</td>\n",
       "    </tr>\n",
       "    <tr>\n",
       "      <th>2</th>\n",
       "      <td>56.132030</td>\n",
       "      <td>1.504614</td>\n",
       "      <td>75.349741</td>\n",
       "      <td>2313.099946</td>\n",
       "      <td>129.702584</td>\n",
       "    </tr>\n",
       "    <tr>\n",
       "      <th>3</th>\n",
       "      <td>66.103056</td>\n",
       "      <td>1.404163</td>\n",
       "      <td>83.149768</td>\n",
       "      <td>2411.915004</td>\n",
       "      <td>152.374928</td>\n",
       "    </tr>\n",
       "    <tr>\n",
       "      <th>4</th>\n",
       "      <td>63.153708</td>\n",
       "      <td>1.491919</td>\n",
       "      <td>84.975189</td>\n",
       "      <td>2017.190063</td>\n",
       "      <td>77.055705</td>\n",
       "    </tr>\n",
       "    <tr>\n",
       "      <th>...</th>\n",
       "      <td>...</td>\n",
       "      <td>...</td>\n",
       "      <td>...</td>\n",
       "      <td>...</td>\n",
       "      <td>...</td>\n",
       "    </tr>\n",
       "    <tr>\n",
       "      <th>995</th>\n",
       "      <td>51.661679</td>\n",
       "      <td>1.707918</td>\n",
       "      <td>83.046712</td>\n",
       "      <td>2208.000119</td>\n",
       "      <td>119.943990</td>\n",
       "    </tr>\n",
       "    <tr>\n",
       "      <th>996</th>\n",
       "      <td>46.832649</td>\n",
       "      <td>1.409253</td>\n",
       "      <td>102.342547</td>\n",
       "      <td>2824.302997</td>\n",
       "      <td>142.162642</td>\n",
       "    </tr>\n",
       "    <tr>\n",
       "      <th>997</th>\n",
       "      <td>49.144119</td>\n",
       "      <td>1.480760</td>\n",
       "      <td>83.944821</td>\n",
       "      <td>2335.748497</td>\n",
       "      <td>146.944563</td>\n",
       "    </tr>\n",
       "    <tr>\n",
       "      <th>998</th>\n",
       "      <td>39.333874</td>\n",
       "      <td>1.378748</td>\n",
       "      <td>64.699859</td>\n",
       "      <td>2769.656109</td>\n",
       "      <td>128.610752</td>\n",
       "    </tr>\n",
       "    <tr>\n",
       "      <th>999</th>\n",
       "      <td>45.570899</td>\n",
       "      <td>1.491940</td>\n",
       "      <td>62.197639</td>\n",
       "      <td>2124.624713</td>\n",
       "      <td>133.457434</td>\n",
       "    </tr>\n",
       "  </tbody>\n",
       "</table>\n",
       "<p>1000 rows × 5 columns</p>\n",
       "</div>"
      ],
      "text/plain": [
       "     obese_age  obese_height  obese_weight    obese_tee    obese_bp\n",
       "0    62.336014      1.346708     89.828248  2774.024549  138.669748\n",
       "1    51.561242      1.328803     94.808614  2497.498176  170.904939\n",
       "2    56.132030      1.504614     75.349741  2313.099946  129.702584\n",
       "3    66.103056      1.404163     83.149768  2411.915004  152.374928\n",
       "4    63.153708      1.491919     84.975189  2017.190063   77.055705\n",
       "..         ...           ...           ...          ...         ...\n",
       "995  51.661679      1.707918     83.046712  2208.000119  119.943990\n",
       "996  46.832649      1.409253    102.342547  2824.302997  142.162642\n",
       "997  49.144119      1.480760     83.944821  2335.748497  146.944563\n",
       "998  39.333874      1.378748     64.699859  2769.656109  128.610752\n",
       "999  45.570899      1.491940     62.197639  2124.624713  133.457434\n",
       "\n",
       "[1000 rows x 5 columns]"
      ]
     },
     "execution_count": 28,
     "metadata": {},
     "output_type": "execute_result"
    }
   ],
   "source": [
    "ob_dataframe = pd.DataFrame(obese_dataset, columns = ['obese_age', 'obese_height', 'obese_weight', 'obese_tee', 'obese_bp'])\n",
    "ob_dataframe"
   ]
  },
  {
   "cell_type": "code",
   "execution_count": 29,
   "metadata": {},
   "outputs": [
    {
     "data": {
      "text/plain": [
       "array([[<Axes: title={'center': 'obese_age'}>,\n",
       "        <Axes: title={'center': 'obese_height'}>],\n",
       "       [<Axes: title={'center': 'obese_weight'}>,\n",
       "        <Axes: title={'center': 'obese_tee'}>],\n",
       "       [<Axes: title={'center': 'obese_bp'}>, <Axes: >]], dtype=object)"
      ]
     },
     "execution_count": 29,
     "metadata": {},
     "output_type": "execute_result"
    },
    {
     "data": {
      "image/png": "[encoded data removed]",
      "text/plain": [
       "<Figure size 1200x800 with 6 Axes>"
      ]
     },
     "metadata": {},
     "output_type": "display_data"
    }
   ],
   "source": [
    "ob_dataframe.hist(alpha=0.8, bins=30, figsize=(12,8))"
   ]
  },
  {
   "cell_type": "markdown",
   "metadata": {},
   "source": [
    "### t-Test comparing Weight and Sistolic Blood Proessure\n",
    "***"
   ]
  },
  {
   "cell_type": "code",
   "execution_count": 27,
   "metadata": {},
   "outputs": [
    {
     "data": {
      "text/plain": [
       "Ttest_indResult(statistic=-2.7048298340530783, pvalue=0.006939661404422186)"
      ]
     },
     "execution_count": 27,
     "metadata": {},
     "output_type": "execute_result"
    }
   ],
   "source": [
    "ss.ttest_ind(hw_bp, obese_bp)"
   ]
  },
  {
   "cell_type": "markdown",
   "metadata": {},
   "source": [
    "The null  hypothesis is there is no relastionship between weight and blood pressure"
   ]
  },
  {
   "cell_type": "code",
   "execution_count": null,
   "metadata": {},
   "outputs": [],
   "source": []
  },
  {
   "cell_type": "markdown",
   "metadata": {},
   "source": [
    "Synthesise/simulate a data set as closely matching their properties as possible."
   ]
  },
  {
   "cell_type": "markdown",
   "metadata": {},
   "source": [
    "Detail your research and implement the simulation in a Jupyter notebook – the data set itself can simply be displayed in an output cell within the notebook."
   ]
  },
  {
   "cell_type": "markdown",
   "metadata": {},
   "source": [
    "### References\n",
    "\n",
    "[1] Rashidi AA, Heidari Bakavoli AR, Avan A, Aghasizade M, Ghazizadeh H, Tayefi M, Khayyatzadeh SS, Ebrahimi M, Moohebati M, Safarian M, Nematy M, Sadr-Bazzaz M, Ferns GA, Ghayour Mobarhan M. Dietary Intake and Its Relationship to Different Body Mass Index Categories: A Population-Based Study. J Res Health Sci. 2018 Sep 8;18(4):e00426. PMID: 30728312; PMCID: PMC6941633, https://www.ncbi.nlm.nih.gov/pmc/articles/PMC6941633/ accessed on 06 NOV 2023"
   ]
  },
  {
   "cell_type": "markdown",
   "metadata": {},
   "source": [
    "https://datatofish.com/numpy-array-to-pandas-dataframe/"
   ]
  }
 ],
 "metadata": {
  "kernelspec": {
   "display_name": "Python 3",
   "language": "python",
   "name": "python3"
  },
  "language_info": {
   "codemirror_mode": {
    "name": "ipython",
    "version": 3
   },
   "file_extension": ".py",
   "mimetype": "text/x-python",
   "name": "python",
   "nbconvert_exporter": "python",
   "pygments_lexer": "ipython3",
   "version": "3.10.9"
  }
 },
 "nbformat": 4,
 "nbformat_minor": 2
}
