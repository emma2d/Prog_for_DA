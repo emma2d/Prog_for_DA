{
 "cells": [
  {
   "cell_type": "markdown",
   "metadata": {},
   "source": [
    "## Project 1 - Simulated Data Set Analysis \n",
    "\n",
    "***\n",
    "\n",
    "Author: Emma Dunleavy \n",
    "\n",
    "Student Number: g00425660\n",
    "\n",
    "Module: Programming for Data Analysis Winter 2023/24  \n",
    "\n",
    "Lecturer: Brian McGinley\n",
    "***"
   ]
  },
  {
   "cell_type": "markdown",
   "metadata": {},
   "source": [
    "### Required Libraries\n",
    "***"
   ]
  },
  {
   "cell_type": "code",
   "execution_count": 5,
   "metadata": {},
   "outputs": [],
   "source": [
    "import requests\n",
    "import pandas as pd\n",
    "from bs4 import BeautifulSoup\n",
    "import json\n",
    "import numpy as np"
   ]
  },
  {
   "cell_type": "markdown",
   "metadata": {},
   "source": [
    "<span style='color:orange'> Part 1 - Choose a real-world phenomenon that can be measured and for which you could collect at least one-hundred data points across at least four different variables. </span>\n",
    "\n",
    "Using the results derived from the Mashhad stroke and heart atherosclerotic disorders (MASHAD) study (2010-2020) [1] the variable of interest is blood pressure, both systolic and diastolic for people categorised as \"Normal weight\", \"Underweight\", \"Overweight\" and \"Obese\". The other contributing measured variables are \"Age\", \"Weight\", \"Height\" and \"Total energy expenditure\". Table 1 below provides a summary of the study's statistical findings. "
   ]
  },
  {
   "cell_type": "markdown",
   "metadata": {},
   "source": [
    "|Variables| \tNormal weight| \tUnderweight |\tOverweight| \tObese| \tP value a| \tP value b |\tP value c|\n",
    "|-----|-----|-----|-----|-----|-----|-----|-----|\n",
    "||Mean / \tSD| Mean \t/ SD |\tMean\t/  SD |\tMean /\tSD| value a| value b| value c|\n",
    "|Age (yr) |\t47.9 / 8.5|\t47.6\t/ 8.1|\t48.5 /\t8.2|\t48.4\t/ 7.9\t|0.410|\t0.009|\t0.001|\n",
    "|Weight(kg) |\t47.9 /\t6.5|\t48.2 /\t8.6|\t70.8\t/ 11.8|\t81.6 /\t14.8|\t0.001|\t0.001|\t0.001|\n",
    "|Height (meter) |\t1.6\t/0.1\t|1.6\t/0.1\t|1.6\t/0.1\t|1.5 /0.1\t|0.002\t|0.001|\t0.001|\n",
    "|Total energy expenditure |\t2362.0\t/ 341.2\t|2380.6\t / 384.6\t|2357.2 / \t305.2 |  2344.0 /\t269.9|\t0.740\t|0.326\t|0.015|\n",
    "|Systolic blood pressure (mmHg) | \t116.3 /\t19.1 |\t111.3\t/ 20.0\t| 120.3 /\t20.1|\t122.6\t/ 26.2 |\t0.020\t|0.001|\t0.001|\n",
    "\n",
    "Table 1 - Statistical findings\n"
   ]
  },
  {
   "cell_type": "markdown",
   "metadata": {},
   "source": [
    "Investigate the types of variables involved, their likely distributions, and their\n",
    "relationships with each other."
   ]
  },
  {
   "cell_type": "markdown",
   "metadata": {},
   "source": [
    " |Variables|Age (yr) |Weight(kg) |Height (meter) | Total energy expenditure   |Systolic blood pressure (mmHg) |\n",
    " |---|:---|---|---|---|---|\n",
    " |**variable type level 1**|numerical|numerical|numerical|numerical|numerical|\n",
    " |**variable type level 2**|continuous - ratio|continuous - ratio|continuous - ratio|continuous - ratio|continuous - ratio|"
   ]
  },
  {
   "cell_type": "code",
   "execution_count": 16,
   "metadata": {},
   "outputs": [
    {
     "data": {
      "text/plain": [
       "array([[6.28944449e+01, 1.56308182e+00, 6.01404795e+01, 1.91621304e+03,\n",
       "        1.04865710e+02],\n",
       "       [5.13013363e+01, 1.57606208e+00, 3.91395661e+01, 2.92775419e+03,\n",
       "        9.49863676e+01],\n",
       "       [5.62192729e+01, 1.70996596e+00, 3.96418475e+01, 2.32168243e+03,\n",
       "        1.30943267e+02],\n",
       "       [6.69475922e+01, 1.66552637e+00, 5.42010786e+01, 2.12992320e+03,\n",
       "        1.23105193e+02],\n",
       "       [6.37742429e+01, 1.66401315e+00, 4.02746979e+01, 2.58936991e+03,\n",
       "        8.25209156e+01]])"
      ]
     },
     "execution_count": 16,
     "metadata": {},
     "output_type": "execute_result"
    }
   ],
   "source": [
    "# Define the means and standard deviations for your variables\n",
    "normal_age_mean = 47.9\n",
    "normal_age_sd = 8.5\n",
    "\n",
    "normal_weight_mean = 47.9\n",
    "normal_weight_sd = 6.5\n",
    "\n",
    "normal_height_mean = 1.6\n",
    "normal_height_sd = 0.1\n",
    "\n",
    "normal_tee_mean = 2362.0\n",
    "normal_tee_sd = 341.2\n",
    "\n",
    "normal_bp_mean = 116.3\n",
    "normal_bp_sd = 19.1\n",
    "\n",
    "# Set the random seed for reproducibility\n",
    "np.random.seed(0)\n",
    "\n",
    "# Generate random data for each variable with the specified standard deviations\n",
    "norm_age = np.random.normal(normal_age_mean, normal_age_sd, 100)\n",
    "norm_weight = np.random.normal(normal_weight_mean, normal_weight_sd, 100)\n",
    "norm_height = np.random.normal(normal_height_mean, normal_height_sd, 100)\n",
    "norm_tee = np.random.normal(normal_tee_mean, normal_tee_sd, 100)\n",
    "norm_bp = np.random.normal(normal_bp_mean, normal_bp_sd, 100)\n",
    "\n",
    "# Create a dataset by combining the variables\n",
    "norm_dataset = np.column_stack((norm_age, norm_height, norm_weight, norm_tee, norm_bp))\n",
    "\n",
    "norm_dataset[:5]"
   ]
  },
  {
   "cell_type": "code",
   "execution_count": 17,
   "metadata": {},
   "outputs": [
    {
     "data": {
      "text/plain": [
       "array([[6.23360135e+01, 1.46308182e+00, 1.09470630e+02, 1.99136840e+03,\n",
       "        1.06915267e+02],\n",
       "       [5.15612419e+01, 1.47606208e+00, 6.16531659e+01, 2.79152947e+03,\n",
       "        9.33634990e+01],\n",
       "       [5.61320301e+01, 1.60996596e+00, 6.27968220e+01, 2.31210752e+03,\n",
       "        1.42686575e+02],\n",
       "       [6.61030563e+01, 1.56552637e+00, 9.59470713e+01, 2.16041990e+03,\n",
       "        1.31934872e+02],\n",
       "       [6.31537081e+01, 1.56401315e+00, 6.42377736e+01, 2.52385679e+03,\n",
       "        7.62642926e+01]])"
      ]
     },
     "execution_count": 17,
     "metadata": {},
     "output_type": "execute_result"
    }
   ],
   "source": [
    "# Define the means and standard deviations for your variables\n",
    "obese_age_mean = 48.4\n",
    "obese_age_sd = 7.9\n",
    "\n",
    "obese_weight_mean = 81.6\n",
    "obese_weight_sd = 14.8\n",
    "\n",
    "obese_height_mean = 1.5\n",
    "obese_height_sd = 0.1\n",
    "\n",
    "obese_tee_mean = 2344.0\n",
    "obese_tee_sd = 269.9\n",
    "\n",
    "obese_bp_mean = 122.6\n",
    "obese_bp_sd = 26.2\n",
    "\n",
    "# Set the random seed for reproducibility\n",
    "np.random.seed(0)\n",
    "\n",
    "# Generate random data for each variable with the specified standard deviations\n",
    "obese_age = np.random.normal(obese_age_mean, obese_age_sd, 100)\n",
    "obese_weight = np.random.normal(obese_weight_mean, obese_weight_sd, 100)\n",
    "obese_height = np.random.normal(obese_height_mean, obese_height_sd, 100)\n",
    "obese_tee = np.random.normal(obese_tee_mean, obese_tee_sd, 100)\n",
    "obese_bp = np.random.normal(obese_bp_mean, obese_bp_sd, 100)\n",
    "\n",
    "# Create a dataset by combining the variables\n",
    "obese_dataset = np.column_stack((obese_age, obese_height, obese_weight, obese_tee, obese_bp))\n",
    "obese_dataset [:5]"
   ]
  },
  {
   "cell_type": "code",
   "execution_count": 1,
   "metadata": {},
   "outputs": [
    {
     "ename": "TypeError",
     "evalue": "can't multiply sequence by non-int of type 'float'",
     "output_type": "error",
     "traceback": [
      "\u001b[1;31m---------------------------------------------------------------------------\u001b[0m",
      "\u001b[1;31mTypeError\u001b[0m                                 Traceback (most recent call last)",
      "\u001b[1;32mc:\\Users\\kellye.GLOBAL\\REPOS\\Prog_for_DA\\project_1.ipynb Cell 8\u001b[0m line \u001b[0;36m5\n\u001b[0;32m      <a href='vscode-notebook-cell:/c%3A/Users/kellye.GLOBAL/REPOS/Prog_for_DA/project_1.ipynb#X21sZmlsZQ%3D%3D?line=2'>3</a>\u001b[0m stdds \u001b[39m=\u001b[39m [\u001b[39m3\u001b[39m, \u001b[39m0.5\u001b[39m]\n\u001b[0;32m      <a href='vscode-notebook-cell:/c%3A/Users/kellye.GLOBAL/REPOS/Prog_for_DA/project_1.ipynb#X21sZmlsZQ%3D%3D?line=3'>4</a>\u001b[0m samples \u001b[39m=\u001b[39m \u001b[39m1000\u001b[39m\n\u001b[1;32m----> <a href='vscode-notebook-cell:/c%3A/Users/kellye.GLOBAL/REPOS/Prog_for_DA/project_1.ipynb#X21sZmlsZQ%3D%3D?line=4'>5</a>\u001b[0m data \u001b[39m=\u001b[39m [rand\u001b[39m.\u001b[39mnormalvariate(means, stdds) \u001b[39mfor\u001b[39;00m i \u001b[39min\u001b[39;00m \u001b[39mrange\u001b[39m(samples)]\n",
      "\u001b[1;32mc:\\Users\\kellye.GLOBAL\\REPOS\\Prog_for_DA\\project_1.ipynb Cell 8\u001b[0m line \u001b[0;36m5\n\u001b[0;32m      <a href='vscode-notebook-cell:/c%3A/Users/kellye.GLOBAL/REPOS/Prog_for_DA/project_1.ipynb#X21sZmlsZQ%3D%3D?line=2'>3</a>\u001b[0m stdds \u001b[39m=\u001b[39m [\u001b[39m3\u001b[39m, \u001b[39m0.5\u001b[39m]\n\u001b[0;32m      <a href='vscode-notebook-cell:/c%3A/Users/kellye.GLOBAL/REPOS/Prog_for_DA/project_1.ipynb#X21sZmlsZQ%3D%3D?line=3'>4</a>\u001b[0m samples \u001b[39m=\u001b[39m \u001b[39m1000\u001b[39m\n\u001b[1;32m----> <a href='vscode-notebook-cell:/c%3A/Users/kellye.GLOBAL/REPOS/Prog_for_DA/project_1.ipynb#X21sZmlsZQ%3D%3D?line=4'>5</a>\u001b[0m data \u001b[39m=\u001b[39m [rand\u001b[39m.\u001b[39;49mnormalvariate(means, stdds) \u001b[39mfor\u001b[39;00m i \u001b[39min\u001b[39;00m \u001b[39mrange\u001b[39m(samples)]\n",
      "File \u001b[1;32mc:\\Users\\kellye.GLOBAL\\AppData\\Local\\anaconda3\\lib\\random.py:589\u001b[0m, in \u001b[0;36mRandom.normalvariate\u001b[1;34m(self, mu, sigma)\u001b[0m\n\u001b[0;32m    587\u001b[0m     \u001b[39mif\u001b[39;00m zz \u001b[39m<\u001b[39m\u001b[39m=\u001b[39m \u001b[39m-\u001b[39m_log(u2):\n\u001b[0;32m    588\u001b[0m         \u001b[39mbreak\u001b[39;00m\n\u001b[1;32m--> 589\u001b[0m \u001b[39mreturn\u001b[39;00m mu \u001b[39m+\u001b[39m z \u001b[39m*\u001b[39;49m sigma\n",
      "\u001b[1;31mTypeError\u001b[0m: can't multiply sequence by non-int of type 'float'"
     ]
    }
   ],
   "source": [
    "import random as rand\n",
    "means = [20.9, 3.0]\n",
    "stdds = [3, 0.5]\n",
    "samples = 1000\n",
    "data = [rand.normalvariate(means, stdds) for i in range(samples)]"
   ]
  },
  {
   "cell_type": "markdown",
   "metadata": {},
   "source": [
    "### t-Test comparing Weight and Diastolic Blood Proessure\n",
    "***"
   ]
  },
  {
   "cell_type": "markdown",
   "metadata": {},
   "source": []
  },
  {
   "cell_type": "markdown",
   "metadata": {},
   "source": [
    "The null  hypothesis is there is no relastionship between weight and blood pressure"
   ]
  },
  {
   "cell_type": "code",
   "execution_count": null,
   "metadata": {},
   "outputs": [],
   "source": []
  },
  {
   "cell_type": "markdown",
   "metadata": {},
   "source": [
    "Synthesise/simulate a data set as closely matching their properties as possible."
   ]
  },
  {
   "cell_type": "markdown",
   "metadata": {},
   "source": [
    "Detail your research and implement the simulation in a Jupyter notebook – the data set itself can simply be displayed in an output cell within the notebook."
   ]
  },
  {
   "cell_type": "markdown",
   "metadata": {},
   "source": [
    "### References\n",
    "\n",
    "[1] Rashidi AA, Heidari Bakavoli AR, Avan A, Aghasizade M, Ghazizadeh H, Tayefi M, Khayyatzadeh SS, Ebrahimi M, Moohebati M, Safarian M, Nematy M, Sadr-Bazzaz M, Ferns GA, Ghayour Mobarhan M. Dietary Intake and Its Relationship to Different Body Mass Index Categories: A Population-Based Study. J Res Health Sci. 2018 Sep 8;18(4):e00426. PMID: 30728312; PMCID: PMC6941633, https://www.ncbi.nlm.nih.gov/pmc/articles/PMC6941633/ accessed on 06 NOV 2023"
   ]
  }
 ],
 "metadata": {
  "kernelspec": {
   "display_name": "Python 3",
   "language": "python",
   "name": "python3"
  },
  "language_info": {
   "codemirror_mode": {
    "name": "ipython",
    "version": 3
   },
   "file_extension": ".py",
   "mimetype": "text/x-python",
   "name": "python",
   "nbconvert_exporter": "python",
   "pygments_lexer": "ipython3",
   "version": "3.10.9"
  }
 },
 "nbformat": 4,
 "nbformat_minor": 2
}
